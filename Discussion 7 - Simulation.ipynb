{
 "cells": [
  {
   "cell_type": "markdown",
   "id": "ce7124d8",
   "metadata": {},
   "source": [
    "The probability an unfair die rolls a number is proportional to that number.  Pick two of these unfair, N-sided die (you choose the N) and sum the values.  \n",
    "\n",
    "Write a simulation to estimate the mean and the variance of the sum of the dice."
   ]
  },
  {
   "cell_type": "code",
   "execution_count": 32,
   "id": "36bf5616",
   "metadata": {},
   "outputs": [],
   "source": [
    "import numpy as np\n",
    "import random"
   ]
  },
  {
   "cell_type": "code",
   "execution_count": 173,
   "id": "c6a9771f",
   "metadata": {},
   "outputs": [],
   "source": [
    "def roll_dice(N):\n",
    "    \"\"\"Roll an unfair, N-sided die with probabilities proportional to the number on each face.\"\"\"\n",
    "    probabilities = [i/N for i in range(1, N+1)]\n",
    "    ## this gives me a list of probabilities for each number on the dice, i.e. [1/6, 2/6, 3/6, etc] \n",
    "    choose = random.choices(range(1, N+1), weights=probabilities)[0]\n",
    "    # here, I select the first item in the list (we're only choosing one item, FWIW.. we could use \"k=x\" for more)\n",
    "    return choose\n",
    "\n",
    "def simulate_dice_sum(num_trials, N):\n",
    "    \"\"\"\n",
    "    Simulate and estimate the mean and variance of their sum.\n",
    "    \"\"\"\n",
    "    sample_sum = 0\n",
    "    results = []\n",
    "    for i in range(num_trials):\n",
    "        dice1 = roll_dice(N)\n",
    "        dice2 = roll_dice(N)\n",
    "        sample_sum += dice1 + dice2  \n",
    "        ## this is the sum of the two dice rolls, which we keep adding to throughout the trials\n",
    "        results.append(dice1 + dice2)\n",
    "        ## Collect the sum of the two dice rolls in a list so we can get variance\n",
    "    mean = sample_sum / num_trials  # we just divide the total sum by the number of trials in the sim\n",
    "    variance = np.var(results)\n",
    "    ## Variance is sum of the squared distances of each term in the distribution from the mean (μ), \n",
    "    ### divided by the number of terms in the distribution (N)\n",
    "    return mean, variance\n"
   ]
  },
  {
   "cell_type": "code",
   "execution_count": 176,
   "id": "a12bf441",
   "metadata": {},
   "outputs": [
    {
     "name": "stdout",
     "output_type": "stream",
     "text": [
      "Mean: 11.33643\n",
      "Variance: 7.770384855099999\n"
     ]
    }
   ],
   "source": [
    "mean, variance, = simulate_dice_sum(100000, 8)\n",
    "print(\"Mean:\", mean)\n",
    "print(\"Variance:\", variance)\n"
   ]
  },
  {
   "cell_type": "code",
   "execution_count": null,
   "id": "0a221976",
   "metadata": {},
   "outputs": [],
   "source": []
  }
 ],
 "metadata": {
  "kernelspec": {
   "display_name": "Python 3 (ipykernel)",
   "language": "python",
   "name": "python3"
  },
  "language_info": {
   "codemirror_mode": {
    "name": "ipython",
    "version": 3
   },
   "file_extension": ".py",
   "mimetype": "text/x-python",
   "name": "python",
   "nbconvert_exporter": "python",
   "pygments_lexer": "ipython3",
   "version": "3.9.6"
  }
 },
 "nbformat": 4,
 "nbformat_minor": 5
}

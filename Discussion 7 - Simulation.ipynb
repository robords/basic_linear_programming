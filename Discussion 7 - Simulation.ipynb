{
 "cells": [
  {
   "cell_type": "markdown",
   "id": "622dcf48",
   "metadata": {},
   "source": [
    "The probability an unfair die rolls a number is proportional to that number.  Pick two of these unfair, N-sided die (you choose the N) and sum the values.  \n",
    "\n",
    "Write a simulation to estimate the mean and the variance of the sum of the dice."
   ]
  },
  {
   "cell_type": "code",
   "execution_count": 32,
   "id": "4d693c0b",
   "metadata": {},
   "outputs": [],
   "source": [
    "import numpy as np\n",
    "import random"
   ]
  },
  {
   "cell_type": "code",
   "execution_count": 162,
   "id": "7c938f88",
   "metadata": {},
   "outputs": [],
   "source": [
    "def roll_dice(N):\n",
    "    \"\"\"Roll an unfair, N-sided die with probabilities proportional to the number on each face.\"\"\"\n",
    "    probabilities = [i/N for i in range(1, N+1)]\n",
    "    ## this gives me a list of probabilities for each number on the dice, i.e. [1/6, 2/6, 3/6, etc] \n",
    "    choose = random.choices(range(1, N+1), weights=probabilities)[0]\n",
    "    # here, I select the first item in the list (we're only choosing one item, FWIW.. we could use \"k=x\" for more)\n",
    "    return choose\n",
    "\n",
    "def simulate_dice_sum(num_trials, N):\n",
    "    \"\"\"\n",
    "    Simulate and estimate the mean and variance of their sum.\n",
    "    \"\"\"\n",
    "    sample_sum = 0\n",
    "    results = []\n",
    "    for i in range(num_trials):\n",
    "        dice1 = roll_dice(N)\n",
    "        dice2 = roll_dice(N)\n",
    "        sample_sum += dice1 + dice2  \n",
    "        ## this is the sum of the two dice rolls, which we keep adding to throughout the trials\n",
    "        results.append(dice1 + dice2)\n",
    "        ## Collect the sum of \n",
    "    mean = sample_sum / num_trials  # we just divide the total sum by the number of trials in the sim\n",
    "    variancev2 = np.var(results)\n",
    "    ## Variance is sum of the squared distances of each term in the distribution from the mean (μ), \n",
    "    ### divided by the number of terms in the distribution (N)\n",
    "    return mean, variance, variancev2, results\n"
   ]
  },
  {
   "cell_type": "code",
   "execution_count": 163,
   "id": "fb3c1ea8",
   "metadata": {},
   "outputs": [],
   "source": [
    "a = roll_dice(6)\n",
    "b = roll_dice(6)"
   ]
  },
  {
   "cell_type": "code",
   "execution_count": 164,
   "id": "c11d7411",
   "metadata": {},
   "outputs": [
    {
     "data": {
      "text/plain": [
       "array([4, 3])"
      ]
     },
     "execution_count": 164,
     "metadata": {},
     "output_type": "execute_result"
    }
   ],
   "source": [
    "np.array([a, b])"
   ]
  },
  {
   "cell_type": "code",
   "execution_count": 165,
   "id": "c56b25c0",
   "metadata": {},
   "outputs": [],
   "source": [
    "c = np.empty(2)"
   ]
  },
  {
   "cell_type": "code",
   "execution_count": 166,
   "id": "14fcacbc",
   "metadata": {},
   "outputs": [
    {
     "data": {
      "text/plain": [
       "array([2.5e-323, 4.9e-324])"
      ]
     },
     "execution_count": 166,
     "metadata": {},
     "output_type": "execute_result"
    }
   ],
   "source": [
    "c"
   ]
  },
  {
   "cell_type": "code",
   "execution_count": 167,
   "id": "201c22f5",
   "metadata": {},
   "outputs": [],
   "source": [
    "c = np.append(c, np.array([a, b]), axis=0)"
   ]
  },
  {
   "cell_type": "code",
   "execution_count": 168,
   "id": "14cdab9b",
   "metadata": {},
   "outputs": [
    {
     "data": {
      "text/plain": [
       "array([2.5e-323, 4.9e-324, 4.0e+000, 3.0e+000])"
      ]
     },
     "execution_count": 168,
     "metadata": {},
     "output_type": "execute_result"
    }
   ],
   "source": [
    "c"
   ]
  },
  {
   "cell_type": "code",
   "execution_count": 169,
   "id": "d330803d",
   "metadata": {},
   "outputs": [
    {
     "data": {
      "text/plain": [
       "array([[0.14948514, 0.73820459],\n",
       "       [0.39507423, 0.07785157]])"
      ]
     },
     "execution_count": 169,
     "metadata": {},
     "output_type": "execute_result"
    }
   ],
   "source": [
    "np.random.rand(2, 2)"
   ]
  },
  {
   "cell_type": "code",
   "execution_count": 170,
   "id": "4bc38b1d",
   "metadata": {},
   "outputs": [
    {
     "name": "stdout",
     "output_type": "stream",
     "text": [
      "Mean: 11.34128\n",
      "Variance: 7.774487961600016\n"
     ]
    }
   ],
   "source": [
    "# Example usage:\n",
    "mean, variance, variancev2, results = simulate_dice_sum(100000, 8)\n",
    "print(\"Mean:\", mean)\n",
    "print(\"Variance:\", variance)\n"
   ]
  },
  {
   "cell_type": "code",
   "execution_count": null,
   "id": "8fe61ffe",
   "metadata": {},
   "outputs": [],
   "source": []
  }
 ],
 "metadata": {
  "kernelspec": {
   "display_name": "Python 3 (ipykernel)",
   "language": "python",
   "name": "python3"
  },
  "language_info": {
   "codemirror_mode": {
    "name": "ipython",
    "version": 3
   },
   "file_extension": ".py",
   "mimetype": "text/x-python",
   "name": "python",
   "nbconvert_exporter": "python",
   "pygments_lexer": "ipython3",
   "version": "3.9.6"
  }
 },
 "nbformat": 4,
 "nbformat_minor": 5
}

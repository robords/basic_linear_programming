{
 "cells": [
  {
   "cell_type": "markdown",
   "id": "cb2a9a18",
   "metadata": {},
   "source": [
    "A glass company makes windows and glass doors, and has three plants.  Aluminum frames are made in Plant 1, wood frames in Plant 2, and Plant 3 makes the glass and assembles the products.\n",
    "\n",
    "Earning are going down, and management wants to revamp the product line:\n",
    "\n",
    "1. An 8 ft glass door with Aluminum Framing\n",
    "2. A 4x6 foot double hung wood framed window\n",
    "\n",
    "Product 1 uses Plants 1 and 3, not 2\n",
    "Procut 2 needs Plant 2 and 3\n",
    "\n",
    "They compete for resources in plant 3\n",
    "\n"
   ]
  },
  {
   "cell_type": "code",
   "execution_count": 1,
   "id": "9ff3b798",
   "metadata": {},
   "outputs": [],
   "source": [
    "# import pulp\n",
    "from pulp import LpVariable, LpProblem, LpMaximize, LpStatus, value, LpMinimize"
   ]
  },
  {
   "cell_type": "code",
   "execution_count": 2,
   "id": "2a64b978",
   "metadata": {},
   "outputs": [],
   "source": [
    "# Problem 1\n",
    "# define variables\n",
    "Product_1 = LpVariable(\"Product_1\", 0, None) \n",
    "# The 0 means we can't have negative values, and \n",
    "# there is no upper bound (we can have as many tables or chairs as possible), no \"None\"\n",
    "Product_2 = LpVariable(\"Product_2\", 0, None)"
   ]
  },
  {
   "cell_type": "code",
   "execution_count": 3,
   "id": "d0ea38d9",
   "metadata": {},
   "outputs": [],
   "source": [
    "# defines the problem\n",
    "prob = LpProblem(\"problem\", LpMaximize)"
   ]
  },
  {
   "cell_type": "code",
   "execution_count": 4,
   "id": "c45e4186",
   "metadata": {},
   "outputs": [],
   "source": [
    "# define objective function\n",
    "prob += 3*Product_1   + 5*Product_2"
   ]
  },
  {
   "cell_type": "code",
   "execution_count": 5,
   "id": "19cd9c9f",
   "metadata": {},
   "outputs": [],
   "source": [
    "# define constraints\n",
    "prob += Product_1 <= 4 \n",
    "prob += 2*Product_2 <= 12 \n",
    "prob += 3*Product_1 + 2*Product_2 <= 18 \n",
    "prob += Product_1 >= 0 \n",
    "prob += Product_2 >= 0 "
   ]
  },
  {
   "cell_type": "code",
   "execution_count": 6,
   "id": "e2ca6c3f",
   "metadata": {},
   "outputs": [
    {
     "name": "stdout",
     "output_type": "stream",
     "text": [
      "Welcome to the CBC MILP Solver \n",
      "Version: 2.10.3 \n",
      "Build Date: Dec 15 2019 \n",
      "\n",
      "command line - /Users/robords/.venv/basic_linear_programming/lib/python3.9/site-packages/pulp/solverdir/cbc/osx/64/cbc /var/folders/c0/r6mf3b4n5w72sdb037sthl840000gn/T/3178faa76fec495285b65809df267a16-pulp.mps max timeMode elapsed branch printingOptions all solution /var/folders/c0/r6mf3b4n5w72sdb037sthl840000gn/T/3178faa76fec495285b65809df267a16-pulp.sol (default strategy 1)\n",
      "At line 2 NAME          MODEL\n",
      "At line 3 ROWS\n",
      "At line 10 COLUMNS\n",
      "At line 19 RHS\n",
      "At line 25 BOUNDS\n",
      "At line 26 ENDATA\n",
      "Problem MODEL has 5 rows, 2 columns and 6 elements\n",
      "Coin0008I MODEL read with 0 errors\n",
      "Option for timeMode changed from cpu to elapsed\n",
      "Presolve 1 (-4) rows, 2 (0) columns and 2 (-4) elements\n",
      "0  Obj -0 Dual inf 10.499998 (2)\n",
      "1  Obj 36\n",
      "Optimal - objective value 36\n",
      "After Postsolve, objective 36, infeasibilities - dual 0 (0), primal 0 (0)\n",
      "Optimal objective 36 - 1 iterations time 0.002, Presolve 0.00\n",
      "Option for printingOptions changed from normal to all\n",
      "Total time (CPU seconds):       0.00   (Wallclock seconds):       0.02\n",
      "\n",
      "Problem 1\n",
      "status=Optimal\n",
      "Product_1 = 2.0\n",
      "Product_2 = 6.0\n",
      "Objective = 36.0\n",
      "\n"
     ]
    }
   ],
   "source": [
    "# solve the problem\n",
    "status = prob.solve()\n",
    "print(f\"Problem 1\")\n",
    "print(f\"status={LpStatus[status]}\")\n",
    "\n",
    "# print the results\n",
    "for variable in prob.variables():\n",
    "    print(f\"{variable.name} = {variable.varValue}\")\n",
    "    \n",
    "print(f\"Objective = {value(prob.objective)}\")\n",
    "print(f\"\")"
   ]
  },
  {
   "cell_type": "code",
   "execution_count": null,
   "id": "c660bac3",
   "metadata": {},
   "outputs": [],
   "source": []
  }
 ],
 "metadata": {
  "kernelspec": {
   "display_name": "Python 3 (ipykernel)",
   "language": "python",
   "name": "python3"
  },
  "language_info": {
   "codemirror_mode": {
    "name": "ipython",
    "version": 3
   },
   "file_extension": ".py",
   "mimetype": "text/x-python",
   "name": "python",
   "nbconvert_exporter": "python",
   "pygments_lexer": "ipython3",
   "version": "3.9.6"
  }
 },
 "nbformat": 4,
 "nbformat_minor": 5
}

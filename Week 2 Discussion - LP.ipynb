{
 "cells": [
  {
   "cell_type": "markdown",
   "id": "38061be1",
   "metadata": {},
   "source": [
    "### Part 1.\n",
    "\n",
    "Electro-Poly is a leading maker of slip-rings. A $750,000 order has just been received and must be filled.  Constraints in filling the order are based on hours for wiring each unit and hours for harnessing each unit. \n",
    "\n",
    "|                            | Model 1 | Model 2 | Model 3 |\n",
    "| :---                       | :----:  |    ---: |    ---: |\n",
    "| # Ordered                  | 3000    | 2000    | 900     |\n",
    "| Hours for Wiring / Unit    |2\t       |1.5\t     |3        |\n",
    "| Hours of Harnessing / Unit |1\t       |2\t     |1        |\n",
    "| Cost to Make               |50\t   |83\t     |130      |\n",
    "| Cost to Buy                |61\t   |97\t     |145      |\n",
    "\n",
    "\n",
    "The company has 10,000 hours of wiring capacity and 5,000 hours of harnessing capacity. It must either make or buy the various models to meet the demand.  Formulate this LP and solve using R, Python, GAMS, Go, or Excel.  Provide your complete code and share with your colleagues."
   ]
  },
  {
   "cell_type": "code",
   "execution_count": 1,
   "id": "b2bafa27",
   "metadata": {},
   "outputs": [],
   "source": [
    "from pulp import LpVariable, LpProblem, LpMaximize, LpStatus, value, LpMinimize, PULP_CBC_CMD"
   ]
  },
  {
   "cell_type": "code",
   "execution_count": 44,
   "id": "e44739c3",
   "metadata": {},
   "outputs": [
    {
     "name": "stdout",
     "output_type": "stream",
     "text": [
      "Status: Optimal\n",
      "Minimum cost: $453,300.00\n",
      "Number of Model_1_to_buy = 0.0\n",
      "Number of Model_1_to_make = 3000.0\n",
      "Number of Model_2_to_buy = 1450.0\n",
      "Number of Model_2_to_make = 550.0\n",
      "Number of Model_3_to_buy = 0.0\n",
      "Number of Model_3_to_make = 900.0\n"
     ]
    }
   ],
   "source": [
    "# Set up the variables\n",
    "## Cannot have less than 0 of Model 1, 2, or 3\n",
    "model_1_make = LpVariable(\"Model 1 to make\", 0, 3000)  # upper limit is 3000\n",
    "model_2_make = LpVariable(\"Model 2 to make\", 0, 2000)\n",
    "model_3_make = LpVariable(\"Model 3 to make\", 0, 900)\n",
    "model_1_buy = LpVariable(\"Model 1 to buy\", 0, 3000)  \n",
    "model_2_buy = LpVariable(\"Model 2 to buy\", 0, 2000)\n",
    "model_3_buy = LpVariable(\"Model 3 to buy\", 0, 900)\n",
    "\n",
    "# Set up the objective function type\n",
    "prob = LpProblem(\"Slip Ring Cost Min Problem\", LpMinimize)\n",
    "\n",
    "# Set up the objective function\n",
    "prob += (50*model_1_make + 83*model_2_make + 130*model_3_make + \n",
    "         61*model_1_buy + 97*model_2_buy + 145*model_3_buy, \"Total cost\")\n",
    "\n",
    "# Set up the constraints\n",
    "prob += (2*model_1_make + 1.5*model_2_make + 3*model_3_make <= 10000, \"Wiring capacity hours\")\n",
    "prob += (1*model_1_make + 2*model_2_make + 1*model_3_make <= 5000, \"Harnessing capacity hours\")\n",
    "prob += (1*model_1_make + 1*model_1_buy == 3000, \"Ordered Model 1 Volume\")\n",
    "prob += (1*model_2_make + 1*model_2_buy == 2000, \"Ordered Model 2 Volume\")\n",
    "prob += (1*model_3_make + 1*model_3_buy == 900, \"Ordered Model 3 Volume\")\n",
    "\n",
    "# Solve the problem\n",
    "status = prob.solve(PULP_CBC_CMD(msg=0))\n",
    "\n",
    "# Print the solution\n",
    "print(f\"Status: {LpStatus[status]}\")\n",
    "print(f\"Minimum cost: {'${:,.2f}'.format(value(prob.objective))}\")  ## formats automatically with commas at thou\n",
    "for v in prob.variables():\n",
    "    print(f'Number of {v.name} = {v.varValue + 0}') # + 0 ensures no negative zeros"
   ]
  },
  {
   "cell_type": "markdown",
   "id": "1706d1bf",
   "metadata": {},
   "source": [
    "#### Formulation\n"
   ]
  },
  {
   "cell_type": "code",
   "execution_count": 45,
   "id": "6a7d1b80",
   "metadata": {},
   "outputs": [
    {
     "name": "stdout",
     "output_type": "stream",
     "text": [
      "\\* Slip_Ring_Cost_Min_Problem *\\\n",
      "Minimize\n",
      "OBJ: 61 Model_1_to_buy + 50 Model_1_to_make + 97 Model_2_to_buy\n",
      " + 83 Model_2_to_make + 145 Model_3_to_buy + 130 Model_3_to_make\n",
      "Subject To\n",
      "Harnessing_capacity_hours: Model_1_to_make + 2 Model_2_to_make\n",
      " + Model_3_to_make <= 5000\n",
      "Ordered_Model_1_Volume: Model_1_to_buy + Model_1_to_make = 3000\n",
      "Ordered_Model_2_Volume: Model_2_to_buy + Model_2_to_make = 2000\n",
      "Ordered_Model_3_Volume: Model_3_to_buy + Model_3_to_make = 900\n",
      "Wiring_capacity_hours: 2 Model_1_to_make + 1.5 Model_2_to_make\n",
      " + 3 Model_3_to_make <= 10000\n",
      "Bounds\n",
      " Model_1_to_buy <= 3000\n",
      " Model_1_to_make <= 3000\n",
      " Model_2_to_buy <= 2000\n",
      " Model_2_to_make <= 2000\n",
      " Model_3_to_buy <= 900\n",
      " Model_3_to_make <= 900\n",
      "End\n",
      "\n"
     ]
    }
   ],
   "source": [
    "prob.writeLP('Slip Ring Cost Min Problem') # this writes to a separate file\n",
    "\n",
    "f = open(\"Slip Ring Cost Min Problem\", \"r\")\n",
    "print(f.read())"
   ]
  },
  {
   "cell_type": "code",
   "execution_count": null,
   "id": "3dab307b",
   "metadata": {},
   "outputs": [],
   "source": []
  }
 ],
 "metadata": {
  "kernelspec": {
   "display_name": "Python 3 (ipykernel)",
   "language": "python",
   "name": "python3"
  },
  "language_info": {
   "codemirror_mode": {
    "name": "ipython",
    "version": 3
   },
   "file_extension": ".py",
   "mimetype": "text/x-python",
   "name": "python",
   "nbconvert_exporter": "python",
   "pygments_lexer": "ipython3",
   "version": "3.9.6"
  }
 },
 "nbformat": 4,
 "nbformat_minor": 5
}

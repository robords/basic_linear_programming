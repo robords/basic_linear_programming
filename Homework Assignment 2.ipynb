{
 "cells": [
  {
   "cell_type": "markdown",
   "id": "7682e68d",
   "metadata": {},
   "source": [
    "# Question 1: \n",
    "__1A.  Write the general dual problem associated with the given LP__    \n",
    "(Do not transform or rewrite the primal problem before writing the general dual) \n",
    " \n",
    "__Maximize__ $$–4x_1 + 2x_2$$\n",
    "__Subject To__\n",
    "$$4x_1 + x_2 + x_3 = 20$$\n",
    "$$2x_1 – x_2 ≥ 6$$\n",
    "$$x_1 – x_2 + 5x_3 ≥ –5$$\n",
    "$$–3x_1 + 2x_2 + x_3 ≤ 4$$ \n",
    "\n",
    "$$x_1 ≤ 0, x_2 ≥ 0, x_3\\text{ unrestricted}$$\n",
    "\n",
    "\n",
    "### Answer:\n",
    "\n",
    "__Minimize__ $$20y_1 + 6y_2 - 5y_3 + 4y_4$$\n",
    "__Subject To__\n",
    "$$4y_1 + 2y_2 + y_3 - 3y_4 ≤ -4$$\n",
    "$$y_1 - y_2 - y_3 + 2y_4 ≥ 3$$\n",
    "$$y_1 + 5y_3 + y_4 = 0$$\n",
    "\n",
    "$$y_1\\text{ unrestricted}, y_2 ≤ 0, y_3 ≤ 0, y_4 ≥ 0$$\n"
   ]
  },
  {
   "cell_type": "code",
   "execution_count": null,
   "id": "ca062fbd",
   "metadata": {},
   "outputs": [],
   "source": []
  }
 ],
 "metadata": {
  "kernelspec": {
   "display_name": "Python 3 (ipykernel)",
   "language": "python",
   "name": "python3"
  },
  "language_info": {
   "codemirror_mode": {
    "name": "ipython",
    "version": 3
   },
   "file_extension": ".py",
   "mimetype": "text/x-python",
   "name": "python",
   "nbconvert_exporter": "python",
   "pygments_lexer": "ipython3",
   "version": "3.9.6"
  }
 },
 "nbformat": 4,
 "nbformat_minor": 5
}

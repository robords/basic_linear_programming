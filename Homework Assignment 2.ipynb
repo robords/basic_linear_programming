{
 "cells": [
  {
   "cell_type": "markdown",
   "id": "b82d3b98",
   "metadata": {},
   "source": [
    "# Question 1: \n",
    "__1A.  Write the general dual problem associated with the given LP__    \n",
    "(Do not transform or rewrite the primal problem before writing the general dual) \n",
    " \n",
    "__Maximize__ $$–4x_1 + 2x_2$$\n",
    "__Subject To__\n",
    "$$4x_1 + x_2 + x_3 = 20$$\n",
    "$$2x_1 – x_2 ≥ 6$$\n",
    "$$x_1 – x_2 + 5x_3 ≥ –5$$\n",
    "$$–3x_1 + 2x_2 + x_3 ≤ 4$$ \n",
    "\n",
    "$$x_1 ≤ 0, x_2 ≥ 0, x_3\\text{ unrestricted}$$\n",
    "\n",
    "\n",
    "### Answer:\n",
    "\n",
    "__Minimize__ $$20y_1 + 6y_2 - 5y_3 + 4y_4$$\n",
    "__Subject To__\n",
    "$$4y_1 + 2y_2 + y_3 - 3y_4 ≤ -4$$\n",
    "$$y_1 - y_2 - y_3 + 2y_4 ≥ 3$$\n",
    "$$y_1 + 5y_3 + y_4 = 0$$\n",
    "\n",
    "$$y_1\\text{ unrestricted}, y_2 ≤ 0, y_3 ≤ 0, y_4 ≥ 0$$\n"
   ]
  },
  {
   "cell_type": "markdown",
   "id": "5155f025",
   "metadata": {},
   "source": [
    "1B.  Given the following information for a product-mix problem with three products and three resources. \n",
    "Primal Decision Variables:  \n",
    "* x1 = number of unit 1 produced\n",
    "* x2 = # of unit 2 produced\n",
    "* x3 = # of unit 3 produced \n",
    "\n",
    "__Primal Formulation:__       \n",
    "$$\\text{Max Z (Rev.) } =  25x1  + 30x2   + 20x3$$     \n",
    "Subject To \n",
    "$$8x1 + 6x2 + x3 ≤ 50 \\text{ (Res. 1 constraint)}$$ \n",
    "$$4x1 + 2x2 + 3x3 ≤ 20 \\text{ (Res. 2 constraint)}$$   \n",
    "$$2x1 + x2 + 2x3 ≤ 25 \\text{ (Res. 3 constraint)}$$   \n",
    "$$x1, x2, x3 ≥ 0  \\text{( Nonnegativity)}$$    \n",
    "\n",
    "__Dual Formulation:__\n",
    "$$\\text{Min W} =  50π1 + 20π2 +25π3$$ \n",
    "Subject To    \n",
    "$$8π1 + 4π2 +2π3≥ 25$$\n",
    "$$6π1 + 2π2 +π3  ≥ 30$$ \n",
    "$$π1 + 3π2 +2π3≥ 20$$ \n",
    "$$π1, π2, π3          ≥ 0$$ \n",
    "\n",
    "__Optimal Solution:__      \n",
    "Optimal Z = Revenue = \\\\$268.75   \n",
    "$$x1 = 0 \\text{(Number of unit 1)}$$  \n",
    "$$x2 = 8.125 \\text{(Number of unit 2)}$$   \n",
    "$$x3 = 1.25 \\text{(Number of unit 3)}$$   \n",
    "\n",
    "Dual Var. Optimal Value = 22.5 (Surplus variable in 1st dual constraint)   \n",
    "Dual Var. Optimal Value = 0 (Surplus variable in 2nd dual constraint)   \n",
    "Dual Var. Optimal Value = 0 (Surplus variable in 3rd dual constraint)  \n",
    "\n",
    "__Resource Constraints:__    \n",
    "Resource 1 = 0 leftover units    \n",
    "Resource 2 = 0 leftover units   \n",
    "Resource 3 = 14.375 leftover units   \n",
    "\n",
    "Dual Var. Optimal Value = 3.125 = π1   \n",
    "Dual Var. Optimal Value = 5.625 = π2   \n",
    "Dual Var. Optimal Value = 0 = π3    \n",
    " \n",
    "__1Bi. What is the fair-market price for one unit of Resource 3?__   \n",
    "\\\\$0.  This is because the optimal solution of the dual is the vector of shadow prices (https://web.stanford.edu/~ashishg/msande111/notes/chapter4.pdf).  In this case, the shadow price is 0, so the company would not be willing to pay anything for one unit of resource 3 since it will not impact the outcome - the optimized revenue of \\\\268.75 would not change. \n",
    " \n",
    "__1Bii. What is the meaning of the surplus variable value of 22.5 in the 1st dual constraint with respect to the primal problem?__\n",
    " "
   ]
  },
  {
   "cell_type": "code",
   "execution_count": null,
   "id": "34fbd90d",
   "metadata": {},
   "outputs": [],
   "source": []
  }
 ],
 "metadata": {
  "kernelspec": {
   "display_name": "Python 3 (ipykernel)",
   "language": "python",
   "name": "python3"
  },
  "language_info": {
   "codemirror_mode": {
    "name": "ipython",
    "version": 3
   },
   "file_extension": ".py",
   "mimetype": "text/x-python",
   "name": "python",
   "nbconvert_exporter": "python",
   "pygments_lexer": "ipython3",
   "version": "3.9.6"
  }
 },
 "nbformat": 4,
 "nbformat_minor": 5
}

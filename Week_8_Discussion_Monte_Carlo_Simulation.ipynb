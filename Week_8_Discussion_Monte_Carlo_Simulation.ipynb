{
 "cells": [
  {
   "cell_type": "markdown",
   "id": "c740281b",
   "metadata": {},
   "source": [
    "# Write a Monte-Carlo simulation of a game of chance (e.g., craps, roulette, etc.)  Post your flowchart, code, and some examples.\n",
    "\n",
    "## Craps https://www.randomservices.org/random/games/Craps.html"
   ]
  },
  {
   "cell_type": "markdown",
   "id": "314a27a3",
   "metadata": {},
   "source": [
    "### Rules\n",
    "The player (known as the shooter) rolls a pair of fair dice\n",
    "\n",
    "* If the sum is 7 or 11 on the first throw, the shooter wins; this event is called a natural.\n",
    "* If the sum is 2, 3, or 12 on the first throw, the shooter loses; this event is called craps.\n",
    "* If the sum is 4, 5, 6, 8, 9, or 10 on the first throw, this number becomes the shooter's point. The shooter continues rolling the dice until either she rolls the point again (in which case she wins) or rolls a 7 (in which case she loses)."
   ]
  },
  {
   "cell_type": "code",
   "execution_count": 1,
   "id": "ac1c2c16",
   "metadata": {},
   "outputs": [],
   "source": [
    "import seaborn as sns\n",
    "import random\n",
    "import numpy as np"
   ]
  },
  {
   "cell_type": "code",
   "execution_count": 2,
   "id": "bf1cb498",
   "metadata": {},
   "outputs": [],
   "source": [
    "def roll_dice():\n",
    "    \"\"\"\n",
    "    Roll a pair of fair, 6-sided die\n",
    "    \"\"\"\n",
    "    dice1, dice2 = random.choices(range(1, 7))[0], random.choices(range(1, 7))[0]\n",
    "    return dice1, dice2, dice1 + dice2"
   ]
  },
  {
   "cell_type": "code",
   "execution_count": 3,
   "id": "dac24bd1",
   "metadata": {},
   "outputs": [],
   "source": [
    "def play_craps():\n",
    "    \"\"\"\n",
    "    After rolling the die: \n",
    "     - If the sum is 7 or 11 on the first throw, the shooter wins; this event is called a natural.\n",
    "     - If the sum is 2, 3, or 12 on the first throw, the shooter loses; this event is called craps.\n",
    "     - If the sum is 4, 5, 6, 8, 9, or 10 on the first throw, this number becomes the shooter's point. \n",
    "       - The shooter continues rolling the dice until either she rolls the point again (in which case she wins) \n",
    "       or rolls a 7 (in which case she loses).\n",
    "       \n",
    "    Returns the a tuple with length of 3 or 4, as folows:\n",
    "        [0] = \"Win\" or \"Lose\"\n",
    "        [1] = number of rolls before the game ended\n",
    "        [2] = die sum on last roll (if the first roll was a win or lose, this is also the first roll)\n",
    "        [3] = die sum on first roll (if the first roll was a win or lose, this is omitted)\n",
    "    \"\"\"\n",
    "    num_rolls = 0  ## Keep track of the number of rolls in the game\n",
    "    d1, d2, first_roll_die_sum = roll_dice()\n",
    "    num_rolls+=1\n",
    "    #print(f\"Roll {num_rolls} = {first_roll_die_sum}\")\n",
    "    if first_roll_die_sum in [7,11]: ## \"Natural\"\n",
    "        return \"Win\", num_rolls, first_roll_die_sum\n",
    "    elif first_roll_die_sum in [2,3,12]: ## \"Craps\"\n",
    "        return \"Lose\", num_rolls, first_roll_die_sum\n",
    "    else:  ## \"Shooter's Point\"\n",
    "        point = first_roll_die_sum\n",
    "        while True: ## Continue Rolling if not equal to 7 or shooter's point\n",
    "            num_rolls+=1\n",
    "            d1, d2, die_sum = roll_dice()\n",
    "            #print(f\"Roll {num_rolls} = {die_sum}\")\n",
    "            if die_sum == point: # If the second or subsequent roll equals the shooter's point\n",
    "                return \"Win\", num_rolls, die_sum, first_roll_die_sum\n",
    "            elif die_sum == 7:  # If the second or subsequent roll equals 7\n",
    "                return \"Lose\", num_rolls, die_sum, first_roll_die_sum"
   ]
  },
  {
   "cell_type": "code",
   "execution_count": 4,
   "id": "ed52d372",
   "metadata": {},
   "outputs": [],
   "source": [
    "def sim_many_trials(num_trials):\n",
    "    trial = 0\n",
    "    trials = []\n",
    "    results = []\n",
    "    for i in range(num_trials):\n",
    "        result = play_craps()\n",
    "        trial+=1\n",
    "        trials.append(trial)\n",
    "        results.append(result)\n",
    "    trial_results = dict(zip(trials, results))\n",
    "    return trial_results"
   ]
  },
  {
   "cell_type": "code",
   "execution_count": 5,
   "id": "5230b980",
   "metadata": {},
   "outputs": [],
   "source": [
    "trial_results = sim_many_trials(10000)"
   ]
  },
  {
   "cell_type": "code",
   "execution_count": 6,
   "id": "6d43b449",
   "metadata": {},
   "outputs": [
    {
     "data": {
      "image/png": "[encoded data removed]",
      "text/plain": [
       "<Figure size 640x480 with 1 Axes>"
      ]
     },
     "metadata": {},
     "output_type": "display_data"
    }
   ],
   "source": [
    "data = np.array([v[0] for k, v in trial_results.items()])\n",
    "ax = sns.histplot(data=data, stat=\"percent\")\n",
    "\n",
    "for i in ax.containers:\n",
    "    ax.bar_label(i,)"
   ]
  },
  {
   "cell_type": "code",
   "execution_count": 7,
   "id": "765b7a98",
   "metadata": {},
   "outputs": [
    {
     "data": {
      "text/plain": [
       "('Lose', 3, 7, 6)"
      ]
     },
     "execution_count": 7,
     "metadata": {},
     "output_type": "execute_result"
    }
   ],
   "source": [
    "play_craps()"
   ]
  },
  {
   "cell_type": "code",
   "execution_count": null,
   "id": "80ce70a9",
   "metadata": {},
   "outputs": [],
   "source": [
    "def bets(amount_bet):\n",
    "    result = play_craps()\n",
    "    \n",
    "    # A pass bet is a bet that the shooter will win and pays 1:1.\n",
    "    if result[0] == 'Win': \n",
    "        #(for every $1 you bet, you'll win $1 if your bet wins)\n",
    "        return amount_bet\n",
    "    else:\n",
    "        return -amount_bet\n",
    "    \n",
    "    # A don't pass bet is a bet that the shooter will lose, except that 12 on the first throw is excluded \n",
    "    #(that is, the shooter loses, of course, but the don't pass better neither wins nor loses). \n",
    "    #This is the meaning of the phrase don't pass bar double 6 on the craps table. The don't pass bet also pays 1:1\n",
    "    if result[0] == 'Lose' or (len(result) == 4 and result[3] != 12) or (len(result == 3) and result(2) != 12):\n",
    "        return amount_bet\n",
    "    elif result[0] == 'Lose' and (len(result) == 4 and result[3] == 12) or (len(result == 3) and result(2) == 12):\n",
    "        return 0\n",
    "    else:\n",
    "        return -amount_bet\n",
    "\n",
    "        "
   ]
  }
 ],
 "metadata": {
  "kernelspec": {
   "display_name": "Python 3 (ipykernel)",
   "language": "python",
   "name": "python3"
  },
  "language_info": {
   "codemirror_mode": {
    "name": "ipython",
    "version": 3
   },
   "file_extension": ".py",
   "mimetype": "text/x-python",
   "name": "python",
   "nbconvert_exporter": "python",
   "pygments_lexer": "ipython3",
   "version": "3.9.6"
  }
 },
 "nbformat": 4,
 "nbformat_minor": 5
}

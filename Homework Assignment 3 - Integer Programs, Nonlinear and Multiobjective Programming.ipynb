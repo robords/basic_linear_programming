{
 "cells": [
  {
   "cell_type": "code",
   "execution_count": 5,
   "id": "f8a100da",
   "metadata": {},
   "outputs": [],
   "source": [
    "from pulp import LpVariable, LpProblem, LpMaximize, LpStatus, value, LpMinimize, GLPK\n",
    "import numpy as np\n",
    "from scipy.optimize import minimize"
   ]
  },
  {
   "cell_type": "markdown",
   "id": "e2cfc9a6",
   "metadata": {},
   "source": [
    "References\n",
    "\n",
    "* https://apmonitor.com/che263/index.php/Main/PythonOptimization (initial formulation)\n",
    "* https://stackoverflow.com/questions/43702352/maximize-optimization-using-scipy (-1 trick)\n",
    "* https://het.as.utexas.edu/HET/Software/Scipy/generated/scipy.optimize.minimize.html ((0,None) trick)\n",
    "* https://docs.scipy.org/doc/scipy/reference/generated/scipy.optimize.minimize.html#scipy.optimize.minimize API Ref\n",
    "* https://stackoverflow.com/questions/17009774/quadratic-program-qp-solver-that-only-depends-on-numpy-scipy Plot\n",
    "* https://realpython.com/python-scipy-cluster-optimize/ Walkthrough "
   ]
  },
  {
   "cell_type": "markdown",
   "id": "3f26aa9c",
   "metadata": {},
   "source": [
    "# 1.  \n",
    "An engineer at Fertilizer Company has synthesized a sensational new fertilizer made of just two interchangeable \n",
    "basic raw materials.  The company wants to take advantage of this opportunity and produce as much as possible of \n",
    "the new fertilizer.  The company currently has \\\\$40,000 to buy raw materials at a unit price of \\\\$8000 and \\\\$5000 per unit, respectively.  When amounts x1 and x2 of the basic raw materials are combined, a quantity q of fertilizer results given by:  𝑞=4𝑥1 +2𝑥2 −0.5𝑥12 −0.25𝑥22 \n",
    " \n",
    "## Part A:    \n",
    "Formulate as a constrained nonlinear program.  Clearly indicate the variables, objective function, and \n",
    "constraints.   \n",
    " \n",
    "## Part B:    \n",
    "Solve the Program (provide exact values for all variables and the optimal objective function). "
   ]
  },
  {
   "cell_type": "code",
   "execution_count": 31,
   "id": "2785650d",
   "metadata": {},
   "outputs": [
    {
     "name": "stdout",
     "output_type": "stream",
     "text": [
      "Initial Objective: -0.0\n",
      "Final Objective: 11.999999998793982\n",
      "Solution\n",
      "x1 = 4.000013055847088\n",
      "x2 = 4.000066956398335\n"
     ]
    }
   ],
   "source": [
    "def objective(x):\n",
    "    '''\n",
    "    When amounts x1 and x2 of the basic raw materials are combined, a quantity q of fertilizer results\n",
    "    If this were a min problem, it would simply be q = 4*x1 + 2*x2 - 0.5*x1**2 - 0.25*x2**2\n",
    "    Since this is a max, we multiply it by -1\n",
    "    '''\n",
    "    x1 = x[0]\n",
    "    x2 = x[1]\n",
    "    q = -1 * (4*x1 + 2*x2 - 0.5*x1**2 - 0.25*x2**2)\n",
    "    return q\n",
    "\n",
    "def constraint1(x):\n",
    "    '''\n",
    "    The company currently has $40,000 to buy raw materials at a unit price of $8000 and $5000 per unit, respectively\n",
    "    '''\n",
    "    x1 = x[0]\n",
    "    x2 = x[1]\n",
    "    return 8000*x1 + 5000*x2 - 40000\n",
    "\n",
    "\n",
    "# initial guesses\n",
    "x0 = [0, 0]\n",
    "\n",
    "# show initial objective\n",
    "print('Initial Objective: ' + str(objective(x0)))\n",
    "\n",
    "# optimize\n",
    "b = (0.0,None)\n",
    "bnds = (b, b) ## greater than 0 constraints\n",
    "con1 = {'type': 'ineq', 'fun': constraint1}\n",
    "cons = ([con1])\n",
    "solution = minimize(objective,x0,method='SLSQP', bounds=bnds,constraints=cons)\n",
    "x = solution.x\n",
    "\n",
    "# show final objective\n",
    "print('Final Objective: ' + str(objective(x) * -1))\n",
    "\n",
    "# print solution\n",
    "print('Solution')\n",
    "print('x1 = ' + str(x[0]))\n",
    "print('x2 = ' + str(x[1]))"
   ]
  },
  {
   "cell_type": "markdown",
   "id": "36ad9bd1",
   "metadata": {},
   "source": [
    "# 2.  \n",
    "\n",
    "The area of a triangle with sides of length a, b, and c is √𝑠(𝑠−𝑎)(𝑠−𝑏)(𝑠−𝑐), where s is half the perimeter \n",
    "of the triangle.  We have 60 feet of fence and want to fence a triangular-shaped area.   \n",
    "\n",
    "## Part A:     \n",
    "Formulate the problem as a constrained nonlinear program that will enable us to maximize the area of the \n",
    "fenced area, with constraints.  Clearly indicate the variables, objective function, and constraints. \n",
    " \n",
    "Hint: The length of a side of a triangle must be less than or equal to the sum of the lengths of the other two sides. \n",
    " \n",
    "## Part B: \n",
    "Solve the Program (provide exact values for all variables and the optimal objective function). \n"
   ]
  },
  {
   "cell_type": "code",
   "execution_count": 30,
   "id": "6ce79f53",
   "metadata": {},
   "outputs": [
    {
     "name": "stdout",
     "output_type": "stream",
     "text": [
      "Initial Objective: 15.0\n",
      "Final Objective (area): 173.20508075688707\n",
      "Solution\n",
      "x1 = 19.999999999999964\n",
      "x2 = 19.99999999999996\n",
      "x3 = 19.99999999999996\n"
     ]
    }
   ],
   "source": [
    "def triangle_area(x, *args):\n",
    "    '''\n",
    "    a, b, and c are the side of a triangle\n",
    "    s is half the perimeter of the triangle\n",
    "    '''\n",
    "    a, b, c = x\n",
    "    s = (a + b + c) / 2\n",
    "    area = np.sqrt(s * (s - a) * (s - b) * (s - c))\n",
    "    return -area\n",
    "\n",
    "def triangle_constraint(x):\n",
    "    a, b, c = x\n",
    "    return [60 - (a + b + c), a + b - c, a + c - b, b + c - a, a, b, c]\n",
    "\n",
    "x0 = [10, 10, 10] # initial guess for the lengths of the sides\n",
    "\n",
    "# show initial objective\n",
    "print('Initial Objective: ' + str(objective(x0)))\n",
    "\n",
    "# optimize\n",
    "b = (0.0, 60)\n",
    "bnds = (b, b, b) ## greater than 0 constraints\n",
    "con1 = {'type': 'ineq', 'fun': triangle_constraint}\n",
    "cons = ([con1])\n",
    "solution = minimize(triangle_area, x0, method='SLSQP', bounds=bnds, constraints=cons)\n",
    "a, b, c = solution.x\n",
    "\n",
    "# show final objective\n",
    "print('Final Objective (area): ' + str(triangle_area(x) * -1))\n",
    "\n",
    "# print solution\n",
    "print('Solution')\n",
    "print('x1 = ' + str(a))\n",
    "print('x2 = ' + str(b))\n",
    "print('x3 = ' + str(c))"
   ]
  },
  {
   "cell_type": "markdown",
   "id": "26799641",
   "metadata": {},
   "source": [
    "# 3\n",
    "The Tiny Toy Company makes three types of new toys: the tiny tank, the tiny truck, and the tiny turtle. Plastic \n",
    "used in one unit of each is 1.5, 2.0 and 1.0 pounds, respectively. Rubber for one unit of each toy is 0.5, 0.5, and 1.0 pounds,  respectively.  Also,  each  tank  uses  0.3  pounds  of  metal  and  the  truck  uses  0.6  pounds  of  metal  during production. The average weekly availability for plastic is 16,000 pounds, 9,000 pounds of metal, and 5,000 pounds of  rubber.  It  takes  two  hours  of  labor  to  make  one  tank,  two  hours  for  one  truck,  and  one  hour  for  a  turtle.  \n",
    "\n",
    "The company allows no more than 40 hours a week for production (priority \\#1). Finally, the cost of manufacturing one \n",
    "tank is \\\\$7, 1 truck is \\\\$5 and 1 turtle is \\\\$4; a target budget of \\\\$164,000 is initially used as a guideline for the company \n",
    "to follow. \n",
    " \n",
    "\n",
    " \n"
   ]
  },
  {
   "cell_type": "markdown",
   "id": "77c72729",
   "metadata": {},
   "source": [
    "__a) Minimize over-utilization of the weekly available supply of materials used in making the toys and place \n",
    "twice as much emphasis on the plastic (priority \\#2)__  \n",
    "\n",
    "__b) Minimize the under and over-utilization of the budget. Maximize available labor hour usage (priority \\#3).__ \n",
    " \n",
    "__Formulate the above decision problem as a single linear goal program. Clearly identify your achievement vector (i.e., hierarchy of priority levels for the goals).  Do not solve.__"
   ]
  },
  {
   "cell_type": "markdown",
   "id": "5ef9d508",
   "metadata": {},
   "source": [
    "\n",
    "```\n",
    "Variables:\n",
    "    x1 = tank\n",
    "    x2 = truck\n",
    "    x3 = turtle\n",
    "\n",
    "Constraints:   \n",
    "  7x1 + 5x2 + 4x3 <= 164,000 (budget objective)\n",
    "  2x1 + 2x2 + x3 <= 40 (hours of labor constraint)\n",
    "  1.5x1 + 2x2 + x3 <= 16,000 (plastic constraint)\n",
    "  0.5x1 + 0.5x2 + x3 <= 5,000 (rubber constraint)\n",
    "  0.3x1 + 0.6x2 <= 9,000 (metal constraint)\n",
    "  x1 >= 0, x2 >= 0, x3 >= 0 (non-negativity constraints)\n",
    "  \n",
    "  Goal 1: Taken care of by constraints (The company allows no more than 40 hours a week for production)\n",
    "  Goal 2: Taken care of by constraints (minimize overutilization of supply and place twice as much emphasis on the plastic)\n",
    "  Goal 3: Taken care of by constraints (Minimize the under and over-utilization of the budget and Maximize available labor hour usage)\n",
    "```\n",
    "\n",
    "7x1 + 5x2 + 4x3 + η1 – ρ1 = 164000     \n",
    "1.5x1 + 2x2 + x3 + η2 – ρ2 = 16000     \n",
    "0.5x1 + 0.5x2 + x3 + η3 – ρ3 = 5000     \n",
    "0.3x1 + 0.6x2 + η4 – ρ4 = 9000     \n",
    "2x1 + 2x2 + x3 + η5 – ρ5 = 40         \n",
    "x1, x2, x3 ≥ 0 and ηi, ρi ≥ 0 for all i \n",
    "\n",
    "$$\\text{Lex Min}\\begin{pmatrix}\n",
    "η1..or..ρ1 \\\\ 3+4\n",
    "\\end{pmatrix}$$\n"
   ]
  },
  {
   "attachments": {},
   "cell_type": "markdown",
   "id": "2182ac01",
   "metadata": {},
   "source": [
    "# 4.  \n",
    "\n",
    "XYZ Company is planning an advertising campaign for its new product. The media considered are television and \n",
    "radio.  Rated  exposures  per  thousand  dollars  of  advertising  expenditure  are  10,000  for  TV  and  7,500  for  radio. \n",
    "\n",
    "Management has agreed that the  campaign cannot be judged successful if total exposures are  under 750,000. The \n",
    "campaign  would  be  viewed  as  superbly  successful  if  1  million  exposures  occurred.  In  addition,  the  company  has realized that the two most important audiences for its product are persons 18 to 21 years of age and persons 25 to 30 years of age. The following table estimates the number of individuals in the two age groups expected to be exposed to advertisements per \\\\$ 1,000 of expenditures: \n",
    "\n",
    "|Age\t|Television\t|Radio|\n",
    "|-------------------|-----------|-----------|\n",
    "|18-21\t|2,500\t|3,000|\n",
    "|25-30\t|3,000\t|1,500|\n",
    "\n",
    "Management has rank ordered five goals it wishes to achieve, arranged from highest to lowest priorities.   \n",
    "1. Achieve total exposures of at least 750,000 persons. \n",
    "1. Avoid expenditures of more than \\\\$100,000. \n",
    "1. Avoid expenditures of more than \\\\$70,000 for television advertisements. \n",
    "1. Achieve at least 1 million total exposures. \n",
    "1. Reach at least 250,000 persons in each of the two age groups, 18-21 and 25-30 years. In addition, \n",
    "management realizes and wishes to account for the fact that the purchasing power of the 25-30 age group is \n",
    "twice that of the 18-21 age group. \n",
    " \n",
    "Formulate the above decision problem as a single linear goal program. Clearly identify your achievement vector (i.e., \n",
    "hierarchy of priority levels for the goals).  Do not solve. "
   ]
  },
  {
   "cell_type": "code",
   "execution_count": null,
   "id": "93cd54ff",
   "metadata": {},
   "outputs": [],
   "source": []
  },
  {
   "cell_type": "markdown",
   "id": "3b355030",
   "metadata": {},
   "source": [
    "# 5\n",
    "\n",
    "A large food chain owns a number of pharmacies that operate in a variety of settings. Some are situated in small \n",
    "towns and are open for only 8 hours a day, 5 days per week. Others are located in shopping malls and are open for \n",
    "longer hours. The analysts on the corporate staff would like to develop a model to show how a store’s revenues \n",
    "depend on the number of hours that it is open. They have collected the following information from a sample of stores. \n",
    "\n",
    "|Hours of Operation |Average Revenue (\\\\$) |\n",
    "|-------------------|-----------|\n",
    "|40 |5958 |\n",
    "|44 |6662 |\n",
    "|48 |6004 |\n",
    "|48 |6011 |\n",
    "|60 |7250 |\n",
    "|70 |8632 |\n",
    "|72 |6964 | \n",
    "|90 |11097| \n",
    "|100 |9107| \n",
    "|168 |11498 |\n",
    "\n",
    "__a)__ Use a linear function (e.g., y = ax + b; where a and b are parameters to optimize) to represent the relationship \n",
    "between revenue and operating hours and find the values of the parameters using the nonlinear solver that \n",
    "provide the best fit to the given data. What revenue does your model predict for 120 hours?     \n",
    "\n",
    "__b)__ Suggest a two-parameter nonlinear model (e.g., y = axb; where a and b are parameters to optimize) for the \n",
    "same relationship and find the parameters using the Nonlinear Solver that provide the best fit. What revenue \n",
    "does your model predict for 120 hours? Which if the models in (a) and (b) do you prefer and why?      \n",
    " \n",
    "Your solutions for (a) and (b) should contain a detailed spreadsheet model (where the decision variables, parameters, \n",
    "objective function and constraints are identified and explained), as well as answers to the questions posed. You may \n",
    "use Microsoft Excel, Python, or R to solve. "
   ]
  },
  {
   "cell_type": "code",
   "execution_count": null,
   "id": "9e7e7acb",
   "metadata": {},
   "outputs": [],
   "source": []
  }
 ],
 "metadata": {
  "kernelspec": {
   "display_name": "Python 3 (ipykernel)",
   "language": "python",
   "name": "python3"
  },
  "language_info": {
   "codemirror_mode": {
    "name": "ipython",
    "version": 3
   },
   "file_extension": ".py",
   "mimetype": "text/x-python",
   "name": "python",
   "nbconvert_exporter": "python",
   "pygments_lexer": "ipython3",
   "version": "3.9.6"
  }
 },
 "nbformat": 4,
 "nbformat_minor": 5
}

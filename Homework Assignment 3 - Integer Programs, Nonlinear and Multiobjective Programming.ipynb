{
 "cells": [
  {
   "cell_type": "code",
   "execution_count": 5,
   "id": "41c351f5",
   "metadata": {},
   "outputs": [],
   "source": [
    "from pulp import LpVariable, LpProblem, LpMaximize, LpStatus, value, LpMinimize, GLPK\n",
    "import numpy as np\n",
    "from scipy.optimize import minimize"
   ]
  },
  {
   "cell_type": "markdown",
   "id": "01dd0d62",
   "metadata": {},
   "source": [
    "References\n",
    "\n",
    "* https://apmonitor.com/che263/index.php/Main/PythonOptimization (initial formulation)\n",
    "* https://stackoverflow.com/questions/43702352/maximize-optimization-using-scipy (-1 trick)\n",
    "* https://het.as.utexas.edu/HET/Software/Scipy/generated/scipy.optimize.minimize.html ((0,None) trick)\n",
    "* https://docs.scipy.org/doc/scipy/reference/generated/scipy.optimize.minimize.html#scipy.optimize.minimize API Ref\n",
    "* https://stackoverflow.com/questions/17009774/quadratic-program-qp-solver-that-only-depends-on-numpy-scipy Plot\n",
    "* https://realpython.com/python-scipy-cluster-optimize/ Walkthrough "
   ]
  },
  {
   "cell_type": "markdown",
   "id": "4beb2ec0",
   "metadata": {},
   "source": [
    "# 1.  \n",
    "An engineer at Fertilizer Company has synthesized a sensational new fertilizer made of just two interchangeable \n",
    "basic raw materials.  The company wants to take advantage of this opportunity and produce as much as possible of \n",
    "the new fertilizer.  The company currently has \\\\$40,000 to buy raw materials at a unit price of \\\\$8000 and \\\\$5000 per unit, respectively.  When amounts x1 and x2 of the basic raw materials are combined, a quantity q of fertilizer results given by:  𝑞=4𝑥1 +2𝑥2 −0.5𝑥12 −0.25𝑥22 \n",
    " \n",
    "## Part A:    \n",
    "Formulate as a constrained nonlinear program.  Clearly indicate the variables, objective function, and \n",
    "constraints.   \n",
    " \n",
    "## Part B:    \n",
    "Solve the Program (provide exact values for all variables and the optimal objective function). "
   ]
  },
  {
   "cell_type": "code",
   "execution_count": 14,
   "id": "20ae1882",
   "metadata": {},
   "outputs": [
    {
     "name": "stdout",
     "output_type": "stream",
     "text": [
      "Initial Objective: -0.0\n",
      "Final Objective: -11.999999998793982\n",
      "Solution\n",
      "x1 = 4.000013055847088\n",
      "x2 = 4.000066956398335\n"
     ]
    }
   ],
   "source": [
    "def objective(x):\n",
    "    '''\n",
    "    When amounts x1 and x2 of the basic raw materials are combined, a quantity q of fertilizer results\n",
    "    If this were a min problem, it would simply be q = 4*x1 + 2*x2 - 0.5*x1**2 - 0.25*x2**2\n",
    "    Since this is a max, we multiply it by -1\n",
    "    '''\n",
    "    x1 = x[0]\n",
    "    x2 = x[1]\n",
    "    q = -1 * (4*x1 + 2*x2 - 0.5*x1**2 - 0.25*x2**2)\n",
    "    return q\n",
    "\n",
    "def constraint1(x):\n",
    "    '''\n",
    "    The company currently has $40,000 to buy raw materials at a unit price of $8000 and $5000 per unit, respectively\n",
    "    '''\n",
    "    x1 = x[0]\n",
    "    x2 = x[1]\n",
    "    return 8000*x1 + 5000*x2 - 40000\n",
    "\n",
    "\n",
    "# initial guesses\n",
    "x0 = [0, 0]\n",
    "\n",
    "# show initial objective\n",
    "print('Initial Objective: ' + str(objective(x0)))\n",
    "\n",
    "# optimize\n",
    "b = (0.0,None)\n",
    "bnds = (b, b) ## greater than 0 constraints\n",
    "con1 = {'type': 'ineq', 'fun': constraint1}\n",
    "cons = ([con1])\n",
    "solution = minimize(objective,x0,method='SLSQP', bounds=bnds,constraints=cons)\n",
    "x = solution.x\n",
    "\n",
    "# show final objective\n",
    "print('Final Objective: ' + str(objective(x)))\n",
    "\n",
    "# print solution\n",
    "print('Solution')\n",
    "print('x1 = ' + str(x[0]))\n",
    "print('x2 = ' + str(x[1]))"
   ]
  },
  {
   "cell_type": "markdown",
   "id": "701082ea",
   "metadata": {},
   "source": [
    "# 2.  \n",
    "\n",
    "The area of a triangle with sides of length a, b, and c is √𝑠(𝑠−𝑎)(𝑠−𝑏)(𝑠−𝑐), where s is half the perimeter \n",
    "of the triangle.  We have 60 feet of fence and want to fence a triangular-shaped area.   \n",
    "\n",
    "## Part A:     \n",
    "Formulate the problem as a constrained nonlinear program that will enable us to maximize the area of the \n",
    "fenced area, with constraints.  Clearly indicate the variables, objective function, and constraints. \n",
    " \n",
    "Hint: The length of a side of a triangle must be less than or equal to the sum of the lengths of the other two sides. \n",
    " \n",
    "## Part B: \n",
    "Solve the Program (provide exact values for all variables and the optimal objective function). \n"
   ]
  },
  {
   "cell_type": "code",
   "execution_count": null,
   "id": "eb12e03f",
   "metadata": {},
   "outputs": [],
   "source": []
  }
 ],
 "metadata": {
  "kernelspec": {
   "display_name": "Python 3 (ipykernel)",
   "language": "python",
   "name": "python3"
  },
  "language_info": {
   "codemirror_mode": {
    "name": "ipython",
    "version": 3
   },
   "file_extension": ".py",
   "mimetype": "text/x-python",
   "name": "python",
   "nbconvert_exporter": "python",
   "pygments_lexer": "ipython3",
   "version": "3.9.6"
  }
 },
 "nbformat": 4,
 "nbformat_minor": 5
}

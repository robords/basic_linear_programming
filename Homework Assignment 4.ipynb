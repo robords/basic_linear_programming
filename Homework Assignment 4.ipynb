{
 "cells": [
  {
   "cell_type": "code",
   "execution_count": 68,
   "id": "d848bb9b",
   "metadata": {},
   "outputs": [],
   "source": [
    "import numpy as np\n",
    "from scipy.stats import sem, t, norm\n",
    "import math\n",
    "import seaborn as sns"
   ]
  },
  {
   "cell_type": "markdown",
   "id": "49d31b7b",
   "metadata": {},
   "source": [
    "## 1. \n",
    "Perform Monte Carlo integration using R statistical programming or Python programming to estimate the value \n",
    "of π. To summarize the approach, consider the unit quarter circle illustrated in the figure below: \n",
    "\n",
    "Generate  𝑁 pairs  of  uniform  random  numbers (𝑥,𝑦),  where 𝑥~ 𝑈(0,1)  and 𝑦  ~ 𝑈(0,1),  and  each  (𝑥,𝑦)  pair \n",
    "represents a point in the unit square. To obtain an estimate of π, count the fraction of points that fall inside the unit quarter circle and multiply by 4. Note that the fraction of points that fall inside the quarter circle should tend to the ratio between the area of the unit quarter circle (i.e., ¼ 𝜋) as compared to area of the unit square (i.e., 1). We proceed step-by-step: \n",
    " \n",
    "__a)__ Create a function `insidecircle` that takes two inputs between 0 and 1 and returns 1 if these points fall within \n",
    "the unit circle.  "
   ]
  },
  {
   "cell_type": "code",
   "execution_count": 3,
   "id": "8afe62ef",
   "metadata": {},
   "outputs": [],
   "source": [
    "def insidecircle(x, y):\n",
    "    if x < 0 or x > 1 or y < 0 or y > 1:\n",
    "        raise Exception(\"Values for x and y must be between 0 and 1\")\n",
    "    if x**2 + y**2 <= 1:\n",
    "        return 1\n",
    "    else:\n",
    "        return 0"
   ]
  },
  {
   "cell_type": "markdown",
   "id": "cc9fa8b2",
   "metadata": {},
   "source": [
    "__b)__ Create a function `estimatepi` that takes a single input 𝑁, generates 𝑁 pairs of uniform random numbers and \n",
    "uses `insidecircle` to produce an estimate of 𝜋 as described above. In addition to the estimate of 𝜋, `estimatepi` \n",
    "should also return the standard error of this estimate, and a 95% confidence interval for the estimate. "
   ]
  },
  {
   "cell_type": "code",
   "execution_count": 58,
   "id": "d84fabcb",
   "metadata": {},
   "outputs": [],
   "source": [
    "def estimatepi(N):\n",
    "    total_true = 0\n",
    "    results_list = []\n",
    "    for i in range(N):\n",
    "        a = np.random.uniform(low=0.0, high=1.0)\n",
    "        b = np.random.uniform(low=0.0, high=1.0)\n",
    "        result = insidecircle(a, b) \n",
    "        results_list.append(result)\n",
    "        total_true += result\n",
    "    \n",
    "    ## pi= 4 * (number of points generated inside the circle) / (number of points generated inside the square)\n",
    "    pi_est = 4 * total_true / N\n",
    "    std_error = sem(results_list)\n",
    "    \n",
    "    #create 95% confidence interval for population mean weight\n",
    "    lower_cutoff = pi_est + t.ppf(0.025, N - 1, scale = std_error)\n",
    "    upper_cutoff = pi_est + t.ppf(0.975, N - 1, scale = std_error)  \n",
    "    return pi_est, std_error, (lower_cutoff, upper_cutoff)"
   ]
  },
  {
   "cell_type": "markdown",
   "id": "9d681293",
   "metadata": {},
   "source": [
    "__c)__ Use `estimatepi` to estimate 𝜋 for 𝑁 = 1000 to 10000 in increments of 500 and record the estimate, its standard \n",
    "error  and  the  upper  and  lower  bounds  of  the  95%  CI.  How  large  must  𝑁  be  in  order  to  ensure  that  your estimate of 𝜋 is within 0.1 of the true value?  "
   ]
  },
  {
   "cell_type": "code",
   "execution_count": 75,
   "id": "49f79708",
   "metadata": {},
   "outputs": [
    {
     "name": "stdout",
     "output_type": "stream",
     "text": [
      "N = 1000 provides enough estimates to get within 0.1 of the true value of pi, 3.141592653589793. \n",
      " This estimated pi at 3.116.\n"
     ]
    }
   ],
   "source": [
    "#How large must 𝑁 be in order to ensure that your estimate of 𝜋 is within 0.1 of the true value?\n",
    "for N in range(1000, 10500, 500):\n",
    "    pi_est, std_error, confidence_interval = estimatepi(N)\n",
    "    if abs(pi_est - math.pi) < 0.1:\n",
    "        print(f\"N = {N} provides enough estimates to get within 0.1 of the true value of pi, {math.pi}. \\n This estimated pi at {pi_est}.\")\n",
    "        value_of_N_to_use = N\n",
    "        break"
   ]
  },
  {
   "cell_type": "markdown",
   "id": "df4820f9",
   "metadata": {},
   "source": [
    "__d)__ Using the value of 𝑁 you determined in part c), run estimatepi 500 times and collect 500 different estimates of 𝜋. Produce a histogram of the estimates and note the shape of this distribution. Calculate the standard deviation of the estimates – does it match the standard error you obtained in part c)? What percentage of the estimates lies within the 95% CI you obtained in part c)?"
   ]
  },
  {
   "cell_type": "code",
   "execution_count": 78,
   "id": "547c7944",
   "metadata": {},
   "outputs": [],
   "source": [
    "def multiple_pi_estimates(value_of_N_to_use):\n",
    "    pi_estimates_list = []\n",
    "    for i in range(500):\n",
    "        pi_est, std_error, confidence_interval = estimatepi(value_of_N_to_use)\n",
    "        pi_estimates_list.append(pi_est)\n",
    "    std_dev = np.std(pi_estimates_list)\n",
    "    return pi_estimates_list, std_dev"
   ]
  },
  {
   "cell_type": "code",
   "execution_count": 79,
   "id": "dc2c26bd",
   "metadata": {},
   "outputs": [],
   "source": [
    "pi_estimates_list, std_dev = multiple_pi_estimates(value_of_N_to_use)"
   ]
  },
  {
   "cell_type": "code",
   "execution_count": 83,
   "id": "ee02aab4",
   "metadata": {},
   "outputs": [
    {
     "data": {
      "text/plain": [
       "<AxesSubplot: ylabel='Count'>"
      ]
     },
     "execution_count": 83,
     "metadata": {},
     "output_type": "execute_result"
    },
    {
     "data": {
      "image/png": "[encoded data removed]",
      "text/plain": [
       "<Figure size 640x480 with 1 Axes>"
      ]
     },
     "metadata": {},
     "output_type": "display_data"
    }
   ],
   "source": [
    "sns.histplot(data=pi_estimates_list)"
   ]
  },
  {
   "cell_type": "code",
   "execution_count": 105,
   "id": "b63de2df",
   "metadata": {},
   "outputs": [
    {
     "name": "stdout",
     "output_type": "stream",
     "text": [
      "The standard error, 0.013127502859696178, does not match the standard deviation, 0.052220808726024186\n",
      "The percentage of the estimates that are within the 95% CI obtained in part c) is 35.4%\n"
     ]
    }
   ],
   "source": [
    "within_ci = [True if i > confidence_interval[0] and i < confidence_interval[1] else False for i in pi_estimates_list]\n",
    "percent_within_ci = sum(bool(x) for x in within_ci)/len(pi_estimates_list)\n",
    "\n",
    "print(f\"The standard error, {std_error}, does {'' if std_error == std_dev else 'not'} match the standard deviation, {std_dev}\")\n",
    "print(f\"The percentage of the estimates that are within the 95% CI obtained in part c) is {percent_within_ci*100}%\")\n"
   ]
  },
  {
   "cell_type": "markdown",
   "id": "ffbe9807",
   "metadata": {},
   "source": [
    "## 2.  \n",
    "\n",
    "A salesperson in a large bicycle shop is paid a bonus if he sells more than 4 bicycles a day.  The probability of \n",
    "selling more than 4 bicycles a day is only 0.40.  If the number of bicycles sold is greater than 4, the distribution of sales as shown below.  The shop has four different models of bicycles.  The amount of the bonus paid out varies by \n",
    "type.  The bonus for model A is \\\\$10; 40\\% of the bicycles sold are of this type.  Model B accounts for 35\\% of the \n",
    "sales and pays a bonus of \\\\$15.  Model C has a bonus rating of $20 and makes up 20\\% of the sales.  Finally, a model \n",
    "D pays a bonus of \\\\$25 for each sale but accounts for only 5\\% of the sales.  Develop a simulation model to calculate \n",
    "the bonus a salesperson can expect in a day. \n",
    " \n",
    "\n",
    "|Number of Bicycles Sold|  Probability |\n",
    "|-----|-----|\n",
    "|5  |   0.35 |\n",
    "|6  |   0.45 |\n",
    "|7  |   0.15 |\n",
    "|8  |   0.05 |"
   ]
  },
  {
   "cell_type": "code",
   "execution_count": 151,
   "id": "d9c84535",
   "metadata": {},
   "outputs": [],
   "source": [
    "def estimate_bicycles_sold():\n",
    "    # Generates a random number between 0 and 1\n",
    "    rand_num = np.random.random()\n",
    "    \n",
    "    # Probability table for selling different numbers of bicycles\n",
    "    prob_table = {\n",
    "        5: 0.35,\n",
    "        6: 0.45,\n",
    "        7: 0.15,\n",
    "        8: 0.05\n",
    "    }\n",
    "    \n",
    "    # If the random number is greater than .4, then the number of bicycles sold is 4 or less\n",
    "    if rand_num > 0.4:\n",
    "        return np.random.randint(1, 5)\n",
    "    \n",
    "    ## Function that loops through the probability table and subtracts each probability from the random number \n",
    "    ## until it finds the first number of bicycles sold for which the random number is less than or \n",
    "    ## equal to the probability\n",
    "    for num_bicycles_sold, prob in prob_table.items():\n",
    "        if rand_num <= prob:  ## checks to see if the randum number is less than a given value in the prob_table\n",
    "            return num_bicycles_sold  ## returns the key from the table\n",
    "        rand_num -= prob  # subtracts the probability from the random number\n",
    "    \n",
    "    # If the loop completes without returning a value, return the maximum number of bicycles sold (8)\n",
    "    return 8\n"
   ]
  },
  {
   "cell_type": "code",
   "execution_count": 183,
   "id": "140eb2a0",
   "metadata": {},
   "outputs": [],
   "source": [
    "def calculate_bonus():\n",
    "    # If the number of bicycles sold is less than or equal to 4, there's no bonus\n",
    "    num_bicycles_sold = estimate_bicycles_sold()\n",
    "    if num_bicycles_sold <= 4:\n",
    "        return 0\n",
    "    \n",
    "    bike_list = [\"A\", \"B\", \"C\", \"D\"]\n",
    "    \n",
    "    # Sales distribution for different models of bicycles\n",
    "    sales_distribution = {\"A\": 0.4, \n",
    "                          \"B\": 0.35, \n",
    "                          \"C\": 0.2, \n",
    "                          \"D\": 0.05}\n",
    "    \n",
    "    # Bonus for each model of bicycles\n",
    "    bonus_rate = {\"A\": 10, \n",
    "                  \"B\": 15, \n",
    "                  \"C\": 20, \n",
    "                  \"D\": 25}\n",
    "    \n",
    "    # Calculate the number of bicycles sold for each model\n",
    "    num_bicycles_sold_per_model = np.random.multinomial(num_bicycles_sold, list(sales_distribution.values()))\n",
    "    num_bicycles_sold_per_model_dict = dict(zip(bike_list, list(num_bicycles_sold_per_model)))\n",
    "    \n",
    "    # Calculate the bonus for each model of bicycles\n",
    "    bonus_per_model = [num_bicycles_sold_per_model_dict[model] * bonus_rate[model] for model in bike_list]\n",
    "    \n",
    "    # Total bonus for the day\n",
    "    total_bonus = sum(bonus_per_model)\n",
    "    \n",
    "    return num_bicycles_sold_per_model_dict, num_bicycles_sold, total_bonus\n"
   ]
  },
  {
   "cell_type": "code",
   "execution_count": 186,
   "id": "7dd1bb26",
   "metadata": {},
   "outputs": [],
   "source": [
    "## Calculate the bonus over the course of N days:\n",
    "def long_term(days):\n",
    "    bonus_list = []\n",
    "    for day in range(days):\n",
    "        num_bicycles_sold_per_model_dict, num_bicycles_sold, total_bonus = calculate_bonus()\n",
    "        bonus_list.append(total_bonus)\n",
    "    return total_bonus"
   ]
  },
  {
   "cell_type": "code",
   "execution_count": null,
   "id": "de2d6659",
   "metadata": {},
   "outputs": [],
   "source": []
  }
 ],
 "metadata": {
  "kernelspec": {
   "display_name": "Python 3 (ipykernel)",
   "language": "python",
   "name": "python3"
  },
  "language_info": {
   "codemirror_mode": {
    "name": "ipython",
    "version": 3
   },
   "file_extension": ".py",
   "mimetype": "text/x-python",
   "name": "python",
   "nbconvert_exporter": "python",
   "pygments_lexer": "ipython3",
   "version": "3.9.6"
  }
 },
 "nbformat": 4,
 "nbformat_minor": 5
}

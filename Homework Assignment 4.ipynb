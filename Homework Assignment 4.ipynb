{
 "cells": [
  {
   "cell_type": "code",
   "execution_count": 61,
   "id": "1132a937",
   "metadata": {},
   "outputs": [],
   "source": [
    "import numpy as np\n",
    "from scipy.stats import sem, t, norm\n",
    "import math"
   ]
  },
  {
   "cell_type": "markdown",
   "id": "3e6ddd4f",
   "metadata": {},
   "source": [
    "## 1. \n",
    "Perform Monte Carlo integration using R statistical programming or Python programming to estimate the value \n",
    "of π. To summarize the approach, consider the unit quarter circle illustrated in the figure below: \n",
    "\n",
    "Generate  𝑁 pairs  of  uniform  random  numbers (𝑥,𝑦),  where 𝑥~ 𝑈(0,1)  and 𝑦  ~ 𝑈(0,1),  and  each  (𝑥,𝑦)  pair \n",
    "represents a point in the unit square. To obtain an estimate of π, count the fraction of points that fall inside the unit quarter circle and multiply by 4. Note that the fraction of points that fall inside the quarter circle should tend to the ratio between the area of the unit quarter circle (i.e., ¼ 𝜋) as compared to area of the unit square (i.e., 1). We proceed step-by-step: \n",
    " \n",
    "a) Create a function `insidecircle` that takes two inputs between 0 and 1 and returns 1 if these points fall within \n",
    "the unit circle. \n",
    " \n",
    "b) Create a function `estimatepi` that takes a single input 𝑁, generates 𝑁 pairs of uniform random numbers and \n",
    "uses `insidecircle` to produce an estimate of 𝜋 as described above. In addition to the estimate of 𝜋, `estimatepi` \n",
    "should also return the standard error of this estimate, and a 95% confidence interval for the estimate.  \n",
    " \n",
    "c) Use `estimatepi` to estimate 𝜋 for 𝑁 = 1000 to 10000 in increments of 500 and record the estimate, its standard \n",
    "error  and  the  upper  and  lower  bounds  of  the  95%  CI.  How  large  must  𝑁  be  in  order  to  ensure  that  your estimate of 𝜋 is within 0.1 of the true value?  \n",
    "\n",
    "d) Using the value of 𝑁 you determined in part c), run `estimatepi` 500 times and collect 500 different estimates \n",
    "of  𝜋.  Produce  a  histogram  of  the  estimates  and  note  the  shape  of this  distribution.  Calculate  the  standard deviation of the estimates – does it match the standard error you obtained in part c)? What percentage of the \n",
    "estimates lies within the 95% CI you obtained in part c)? "
   ]
  },
  {
   "cell_type": "code",
   "execution_count": 3,
   "id": "750e59dd",
   "metadata": {},
   "outputs": [],
   "source": [
    "def insidecircle(x, y):\n",
    "    if x < 0 or x > 1 or y < 0 or y > 1:\n",
    "        raise Exception(\"Values for x and y must be between 0 and 1\")\n",
    "    if x**2 + y**2 <= 1:\n",
    "        return 1\n",
    "    else:\n",
    "        return 0"
   ]
  },
  {
   "cell_type": "code",
   "execution_count": 58,
   "id": "864d4c28",
   "metadata": {},
   "outputs": [],
   "source": [
    "def estimatepi(N):\n",
    "    total_true = 0\n",
    "    results_list = []\n",
    "    for i in range(N):\n",
    "        a = np.random.uniform(low=0.0, high=1.0)\n",
    "        b = np.random.uniform(low=0.0, high=1.0)\n",
    "        result = insidecircle(a, b) \n",
    "        results_list.append(result)\n",
    "        total_true += result\n",
    "    \n",
    "    ## pi= 4 * (number of points generated inside the circle) / (number of points generated inside the square)\n",
    "    pi_est = 4 * total_true / N\n",
    "    std_error = sem(results_list)\n",
    "    \n",
    "    #create 95% confidence interval for population mean weight\n",
    "    lower_cutoff = pi_est + t.ppf(0.025, N - 1, scale = std_error)\n",
    "    upper_cutoff = pi_est + t.ppf(0.975, N - 1, scale = std_error)  \n",
    "    return pi_est, std_error, (lower_cutoff, upper_cutoff)"
   ]
  },
  {
   "cell_type": "code",
   "execution_count": 67,
   "id": "4d899749",
   "metadata": {},
   "outputs": [
    {
     "name": "stdout",
     "output_type": "stream",
     "text": [
      "N = 1000 provides enough estimates to get within 0.1 of the true value of pi, 3.141592653589793. \n",
      " This estimated pi at 3.184.\n"
     ]
    }
   ],
   "source": [
    "#How large must 𝑁 be in order to ensure that your estimate of 𝜋 is within 0.1 of the true value?\n",
    "for N in range(1000, 10500, 500):\n",
    "    pi_est, std_error, confidence_interval = estimatepi(N)\n",
    "    if abs(pi_est - math.pi) < 0.1:\n",
    "        print(f\"N = {N} provides enough estimates to get within 0.1 of the true value of pi, {math.pi}. \\n This estimated pi at {pi_est}.\")\n",
    "        break"
   ]
  },
  {
   "cell_type": "code",
   "execution_count": null,
   "id": "791e1a19",
   "metadata": {},
   "outputs": [],
   "source": [
    "# "
   ]
  },
  {
   "cell_type": "code",
   "execution_count": null,
   "id": "556763ed",
   "metadata": {},
   "outputs": [],
   "source": []
  }
 ],
 "metadata": {
  "kernelspec": {
   "display_name": "Python 3 (ipykernel)",
   "language": "python",
   "name": "python3"
  },
  "language_info": {
   "codemirror_mode": {
    "name": "ipython",
    "version": 3
   },
   "file_extension": ".py",
   "mimetype": "text/x-python",
   "name": "python",
   "nbconvert_exporter": "python",
   "pygments_lexer": "ipython3",
   "version": "3.9.6"
  }
 },
 "nbformat": 4,
 "nbformat_minor": 5
}

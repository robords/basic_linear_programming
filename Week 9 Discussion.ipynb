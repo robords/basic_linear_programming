{
 "cells": [
  {
   "cell_type": "code",
   "execution_count": 29,
   "id": "893535c7",
   "metadata": {},
   "outputs": [],
   "source": [
    "import numpy as np\n",
    "import pandas as pd"
   ]
  },
  {
   "cell_type": "code",
   "execution_count": 6,
   "id": "d5914da5",
   "metadata": {},
   "outputs": [
    {
     "data": {
      "text/plain": [
       "array([[0.83, 0.17],\n",
       "       [0.34, 0.66]])"
      ]
     },
     "execution_count": 6,
     "metadata": {},
     "output_type": "execute_result"
    }
   ],
   "source": [
    "two_moves = np.matmul(np.array([[.9, .1], [.2, .8]]), np.array([[.9, .1], [.2, .8]]))\n",
    "\n",
    "two_moves"
   ]
  },
  {
   "cell_type": "code",
   "execution_count": 7,
   "id": "0a8adea3",
   "metadata": {},
   "outputs": [
    {
     "data": {
      "text/plain": [
       "array([[0.781, 0.219],\n",
       "       [0.438, 0.562]])"
      ]
     },
     "execution_count": 7,
     "metadata": {},
     "output_type": "execute_result"
    }
   ],
   "source": [
    "np.matmul(np.array([[.9, .1], [.2, .8]]), two_moves)"
   ]
  },
  {
   "cell_type": "markdown",
   "id": "809e43a8",
   "metadata": {},
   "source": [
    "__South American Country Array__\n",
    "\n",
    "\n",
    "$$\n",
    "\\begin{equation*}\n",
    "  \\begin{pmatrix}\n",
    "    & \\textbf{Argentina} & \\textbf{Bolivia} & \\textbf{Brazil} & \\textbf{Chile} & \\textbf{Colombia} & \\textbf{Ecuador} & \\textbf{French Guiana} & \\textbf{Guyana} & \\textbf{Paraguay} & \\textbf{Peru} & \\textbf{Falkland Islands} & \\textbf{Suriname} & \\textbf{Uruguay} & \\textbf{Venezuela} & \\\\\n",
    "    \\textbf{Argentina} & 0 & .2 & .2 & .2 & 0 & 0 & 0 & 0 & .2 & 0 & 0 & 0 & .2 & 0 & \\\\\n",
    "    \\textbf{Bolivia} & .2 & 0 & .2 & .2 & 0 & 0 & 0 & 0 & .2 & 0 & 0 & 0 & .2 & 0 & \\\\\n",
    "    \\textbf{Brazil} & .5 & .5 & 0 & 0 & 0 & 0 & 0 & 0 & 0 & .5 & 0 & 0 & 0 & 0 & \\\\\n",
    "    \\textbf{Chile} & 1 & 0 & 0 & 0 & 0 & .5 & 0 & 0 & 0 & .5 & 1 & 0 & 0 & 0 & \\\\\n",
    "    \\textbf{Colombia} & 0 & 0 & 0 & 0 & 0 & .5 & 0 & .5 & 0 & .5 & 0 & .5 & 0 & .5 & \\\\\n",
    "    \\textbf{Ecuador} & 0 & 0 & 0 & .5 & .5 & 0 & 0 & 0 & 0 & .5 & 0 & .5 & 0 & .5 & \\\\\n",
    "    \\textbf{French Guiana} & 0 & 0 & 0 & 0 & 0 & 0 & 0 & 1 & 0 & 0 & 0 & 0 & 0 & 0 & \\\\\n",
    "    \\textbf{Guyana} & 0 & 0 & 0 & 0 & .5 & 0 & 1 & 0 & 0 & 0 & 0 & .5 & 0 & .5 & \\\\\n",
    "    \\textbf{Paraguay} & 0 & .5 & 0 & 0 & 0 & 0 & 0 & 0 & 0 & .5 & 0 & 0 & .5 & 0 & \\\\\n",
    "    \\textbf{Peru} & 0 & 0 & .5 & .5 & .5 & .5 & 0 & 0 & 0 & 0 & 0 & .5 & 0 & .5 & \\\\\n",
    "    \\textbf{Falkland Islands} & 0 & 0 & 0 & 1 & 0 & 0 & 0 & 0 & 0 & 0 & 0 & 0 & 0 & 0 & \\\\\n",
    "    \\textbf{Suriname} & 0 & 0 & 0 & 1 & 0 & 0 & 0 & 0 & 0 & 0 & 0 & 0 & 0 & 0 & \\\\\n",
    "    \\textbf{Uruguay} & 0 & 0 & 0 & 1 & 0 & 0 & 0 & 0 & 0 & 0 & 0 & 0 & 0 & 0 & \\\\\n",
    "    \\textbf{Venezuela} & 0 & 0 & 0 & 1 & 0 & 0 & 0 & 0 & 0 & 0 & 0 & 0 & 0 & 0 & \\\\\n",
    "   \\end{pmatrix}\n",
    "\\end{equation*}\n",
    "$$\n",
    "\n",
    "\n",
    "Do Brazil Next"
   ]
  },
  {
   "cell_type": "code",
   "execution_count": 15,
   "id": "1d3f3424",
   "metadata": {},
   "outputs": [
    {
     "data": {
      "text/plain": [
       "0.2"
      ]
     },
     "execution_count": 15,
     "metadata": {},
     "output_type": "execute_result"
    }
   ],
   "source": [
    "1/5"
   ]
  },
  {
   "cell_type": "code",
   "execution_count": 11,
   "id": "bae1a618",
   "metadata": {},
   "outputs": [
    {
     "name": "stdout",
     "output_type": "stream",
     "text": [
      "Argentina: 0.000\n",
      "Bolivia: 0.000\n",
      "Brazil: 0.000\n",
      "Chile: 0.333\n",
      "Paraguay: 0.333\n",
      "Peru: 0.333\n"
     ]
    }
   ],
   "source": [
    "# Define the transition matrix\n",
    "P = np.array([\n",
    "    [0, 0.5, 0.5, 0, 0, 0],\n",
    "    [0.5, 0, 0.5, 0, 0, 0],\n",
    "    [0.5, 0.5, 0, 0, 0, 0],\n",
    "    [0, 0, 0, 0, 0.5, 0.5],\n",
    "    [0, 0, 0, 0.5, 0, 0.5],\n",
    "    [0, 0, 0, 0.5, 0.5, 0]\n",
    "])\n",
    "\n",
    "# Define the initial state vector (the spy is currently in Chile)\n",
    "x = np.array([0, 0, 0, 0, 1, 0])\n",
    "\n",
    "# Calculate the state vector after 10 days\n",
    "x_10 = np.linalg.matrix_power(P, 14).dot(x)\n",
    "\n",
    "# Print the probabilities of the spy being in each country after 10 days\n",
    "#countries = ['Argentina', 'Bolivia', 'Brazil', 'Chile', 'Paraguay', 'Peru']\n",
    "countries = ['Brazil', 'Colombia', 'Argentina', 'Peru', 'Venezuela', 'Chile', 'Ecuador', 'Bolivia', \n",
    "             'Paraguay', 'Uruguay', 'Guyana', 'Suriname', 'French Guiana', 'Falkland Islands']\n",
    "for i, country in enumerate(countries):\n",
    "    print(f'{country}: {x_10[i]:.3f}')\n"
   ]
  },
  {
   "cell_type": "code",
   "execution_count": 31,
   "id": "e0380b24",
   "metadata": {},
   "outputs": [],
   "source": [
    "arr = np.array([[0, .2, .2, .2, 0, 0, 0, 0, .2, 0, 0, 0, .2, 0],\n",
    "                [.2, 0, .2, .2, 0, 0, 0, 0, .2, 0, 0, 0, .2, 0],\n",
    "                [.5, .5, 0, 0, 0, 0, 0, 0, 0, .5, 0, 0, 0, 0],\n",
    "                [1, 0, 0, 0, 0, .5, 0, 0, 0, .5, 1, 0, 0, 0],\n",
    "                [0, 0, 0, 0, 0, .5, 0, .5, .5, 0, .5, 0, .5, 0.5],\n",
    "                [0, 0, 0, .5, .5, 0, 0, 0, .5, 0, .5, 0, .5, 0.5],\n",
    "                [0, 0, 0, 0, 0, 0, 0, 1, 0, 0, 0, 0, 0, 0],\n",
    "                [0, 0, 0, 0, .5, 0, 1, 0, 0, 0, .5, 0, .5, 0.5],\n",
    "                [0, .5, 0, 0, 0, 0, 0, 0, .5, 0, .5, 0, 0.5, 0],\n",
    "                [0, 0, .5, .5, .5, .5, 0, 0, 0, 0, .5, 0, .5, 0.5],\n",
    "                [0, 0, 0, 0, 0, 0, 0, 0, 0, 0, 0, 0, 0, 0],\n",
    "                [0, 0, 0, 0, 0, 0, 0, 0, 0, 0, 0, 0, 0, 0],\n",
    "                [0, 0, 0, 0, 0, 0, 0, 0, .5, 0, 0, 0, 0, 0],\n",
    "                [0, 0, 0, 0, 0, 0, 0, 0, .5, .5, 0, 0, 0, 0]])\n",
    "\n",
    "countries = ['Argentina', 'Bolivia', 'Brazil', 'Chile', 'Colombia', 'Ecuador', 'French Guiana',\n",
    "             'Guyana', 'Paraguay', 'Peru', 'Falkland Islands', 'Suriname', 'Uruguay', 'Venezuela']\n",
    "\n"
   ]
  },
  {
   "cell_type": "code",
   "execution_count": 32,
   "id": "515e8cfd",
   "metadata": {},
   "outputs": [
    {
     "name": "stdout",
     "output_type": "stream",
     "text": [
      "(14, 14)\n",
      "14\n"
     ]
    }
   ],
   "source": [
    "print(arr.shape)\n",
    "print(len(countries))"
   ]
  },
  {
   "cell_type": "code",
   "execution_count": 33,
   "id": "e86be874",
   "metadata": {},
   "outputs": [
    {
     "data": {
      "text/plain": [
       "15"
      ]
     },
     "execution_count": 33,
     "metadata": {},
     "output_type": "execute_result"
    }
   ],
   "source": [
    "len([0, .2, .2, .2, 0, 0, 0, 0, 0, .2, 0, 0, 0, .2, 0])"
   ]
  },
  {
   "cell_type": "code",
   "execution_count": 30,
   "id": "34382045",
   "metadata": {},
   "outputs": [
    {
     "ename": "ValueError",
     "evalue": "Shape of passed values is (14, 15), indices imply (14, 14)",
     "output_type": "error",
     "traceback": [
      "\u001b[0;31m---------------------------------------------------------------------------\u001b[0m",
      "\u001b[0;31mValueError\u001b[0m                                Traceback (most recent call last)",
      "Cell \u001b[0;32mIn[30], line 2\u001b[0m\n\u001b[1;32m      1\u001b[0m \u001b[38;5;66;03m# Convert the array to a Pandas DataFrame\u001b[39;00m\n\u001b[0;32m----> 2\u001b[0m df \u001b[38;5;241m=\u001b[39m \u001b[43mpd\u001b[49m\u001b[38;5;241;43m.\u001b[39;49m\u001b[43mDataFrame\u001b[49m\u001b[43m(\u001b[49m\u001b[43marr\u001b[49m\u001b[43m,\u001b[49m\u001b[43m \u001b[49m\u001b[43mcolumns\u001b[49m\u001b[38;5;241;43m=\u001b[39;49m\u001b[43mcountries\u001b[49m\u001b[43m,\u001b[49m\u001b[43m \u001b[49m\u001b[43mindex\u001b[49m\u001b[38;5;241;43m=\u001b[39;49m\u001b[43mcountries\u001b[49m\u001b[43m)\u001b[49m\n\u001b[1;32m      4\u001b[0m \u001b[38;5;66;03m# Display the DataFrame\u001b[39;00m\n\u001b[1;32m      5\u001b[0m \u001b[38;5;28mprint\u001b[39m(df)\n",
      "File \u001b[0;32m~/.venv/basic_linear_programming/lib/python3.9/site-packages/pandas/core/frame.py:721\u001b[0m, in \u001b[0;36mDataFrame.__init__\u001b[0;34m(self, data, index, columns, dtype, copy)\u001b[0m\n\u001b[1;32m    711\u001b[0m         mgr \u001b[38;5;241m=\u001b[39m dict_to_mgr(\n\u001b[1;32m    712\u001b[0m             \u001b[38;5;66;03m# error: Item \"ndarray\" of \"Union[ndarray, Series, Index]\" has no\u001b[39;00m\n\u001b[1;32m    713\u001b[0m             \u001b[38;5;66;03m# attribute \"name\"\u001b[39;00m\n\u001b[0;32m   (...)\u001b[0m\n\u001b[1;32m    718\u001b[0m             typ\u001b[38;5;241m=\u001b[39mmanager,\n\u001b[1;32m    719\u001b[0m         )\n\u001b[1;32m    720\u001b[0m     \u001b[38;5;28;01melse\u001b[39;00m:\n\u001b[0;32m--> 721\u001b[0m         mgr \u001b[38;5;241m=\u001b[39m \u001b[43mndarray_to_mgr\u001b[49m\u001b[43m(\u001b[49m\n\u001b[1;32m    722\u001b[0m \u001b[43m            \u001b[49m\u001b[43mdata\u001b[49m\u001b[43m,\u001b[49m\n\u001b[1;32m    723\u001b[0m \u001b[43m            \u001b[49m\u001b[43mindex\u001b[49m\u001b[43m,\u001b[49m\n\u001b[1;32m    724\u001b[0m \u001b[43m            \u001b[49m\u001b[43mcolumns\u001b[49m\u001b[43m,\u001b[49m\n\u001b[1;32m    725\u001b[0m \u001b[43m            \u001b[49m\u001b[43mdtype\u001b[49m\u001b[38;5;241;43m=\u001b[39;49m\u001b[43mdtype\u001b[49m\u001b[43m,\u001b[49m\n\u001b[1;32m    726\u001b[0m \u001b[43m            \u001b[49m\u001b[43mcopy\u001b[49m\u001b[38;5;241;43m=\u001b[39;49m\u001b[43mcopy\u001b[49m\u001b[43m,\u001b[49m\n\u001b[1;32m    727\u001b[0m \u001b[43m            \u001b[49m\u001b[43mtyp\u001b[49m\u001b[38;5;241;43m=\u001b[39;49m\u001b[43mmanager\u001b[49m\u001b[43m,\u001b[49m\n\u001b[1;32m    728\u001b[0m \u001b[43m        \u001b[49m\u001b[43m)\u001b[49m\n\u001b[1;32m    730\u001b[0m \u001b[38;5;66;03m# For data is list-like, or Iterable (will consume into list)\u001b[39;00m\n\u001b[1;32m    731\u001b[0m \u001b[38;5;28;01melif\u001b[39;00m is_list_like(data):\n",
      "File \u001b[0;32m~/.venv/basic_linear_programming/lib/python3.9/site-packages/pandas/core/internals/construction.py:349\u001b[0m, in \u001b[0;36mndarray_to_mgr\u001b[0;34m(values, index, columns, dtype, copy, typ)\u001b[0m\n\u001b[1;32m    344\u001b[0m \u001b[38;5;66;03m# _prep_ndarraylike ensures that values.ndim == 2 at this point\u001b[39;00m\n\u001b[1;32m    345\u001b[0m index, columns \u001b[38;5;241m=\u001b[39m _get_axes(\n\u001b[1;32m    346\u001b[0m     values\u001b[38;5;241m.\u001b[39mshape[\u001b[38;5;241m0\u001b[39m], values\u001b[38;5;241m.\u001b[39mshape[\u001b[38;5;241m1\u001b[39m], index\u001b[38;5;241m=\u001b[39mindex, columns\u001b[38;5;241m=\u001b[39mcolumns\n\u001b[1;32m    347\u001b[0m )\n\u001b[0;32m--> 349\u001b[0m \u001b[43m_check_values_indices_shape_match\u001b[49m\u001b[43m(\u001b[49m\u001b[43mvalues\u001b[49m\u001b[43m,\u001b[49m\u001b[43m \u001b[49m\u001b[43mindex\u001b[49m\u001b[43m,\u001b[49m\u001b[43m \u001b[49m\u001b[43mcolumns\u001b[49m\u001b[43m)\u001b[49m\n\u001b[1;32m    351\u001b[0m \u001b[38;5;28;01mif\u001b[39;00m typ \u001b[38;5;241m==\u001b[39m \u001b[38;5;124m\"\u001b[39m\u001b[38;5;124marray\u001b[39m\u001b[38;5;124m\"\u001b[39m:\n\u001b[1;32m    353\u001b[0m     \u001b[38;5;28;01mif\u001b[39;00m \u001b[38;5;28missubclass\u001b[39m(values\u001b[38;5;241m.\u001b[39mdtype\u001b[38;5;241m.\u001b[39mtype, \u001b[38;5;28mstr\u001b[39m):\n",
      "File \u001b[0;32m~/.venv/basic_linear_programming/lib/python3.9/site-packages/pandas/core/internals/construction.py:420\u001b[0m, in \u001b[0;36m_check_values_indices_shape_match\u001b[0;34m(values, index, columns)\u001b[0m\n\u001b[1;32m    418\u001b[0m passed \u001b[38;5;241m=\u001b[39m values\u001b[38;5;241m.\u001b[39mshape\n\u001b[1;32m    419\u001b[0m implied \u001b[38;5;241m=\u001b[39m (\u001b[38;5;28mlen\u001b[39m(index), \u001b[38;5;28mlen\u001b[39m(columns))\n\u001b[0;32m--> 420\u001b[0m \u001b[38;5;28;01mraise\u001b[39;00m \u001b[38;5;167;01mValueError\u001b[39;00m(\u001b[38;5;124mf\u001b[39m\u001b[38;5;124m\"\u001b[39m\u001b[38;5;124mShape of passed values is \u001b[39m\u001b[38;5;132;01m{\u001b[39;00mpassed\u001b[38;5;132;01m}\u001b[39;00m\u001b[38;5;124m, indices imply \u001b[39m\u001b[38;5;132;01m{\u001b[39;00mimplied\u001b[38;5;132;01m}\u001b[39;00m\u001b[38;5;124m\"\u001b[39m)\n",
      "\u001b[0;31mValueError\u001b[0m: Shape of passed values is (14, 15), indices imply (14, 14)"
     ]
    }
   ],
   "source": [
    "# Convert the array to a Pandas DataFrame\n",
    "df = pd.DataFrame(arr, columns=countries, index=countries)\n",
    "\n",
    "# Display the DataFrame\n",
    "print(df)"
   ]
  },
  {
   "cell_type": "code",
   "execution_count": null,
   "id": "6a7ef265",
   "metadata": {},
   "outputs": [],
   "source": []
  }
 ],
 "metadata": {
  "kernelspec": {
   "display_name": "Python 3 (ipykernel)",
   "language": "python",
   "name": "python3"
  },
  "language_info": {
   "codemirror_mode": {
    "name": "ipython",
    "version": 3
   },
   "file_extension": ".py",
   "mimetype": "text/x-python",
   "name": "python",
   "nbconvert_exporter": "python",
   "pygments_lexer": "ipython3",
   "version": "3.9.6"
  }
 },
 "nbformat": 4,
 "nbformat_minor": 5
}

{
 "cells": [
  {
   "cell_type": "markdown",
   "id": "64b33e98",
   "metadata": {},
   "source": [
    "You are moving from New Jersey to California and have rented a truck that can haul up to 1,100 cubic feet of furniture.  The volume and value of each item you are considering moving on the truck is given below. \n",
    "\n",
    "Which items should you take to California using the knapsack problem formulation? \n",
    "However, what unrealistic assumptions are you making about this real-life problem by using the knapsack problem? \n",
    "\n",
    "\n",
    "| **Item**            | **Value (\\\\$)** | **Volume (Cubic Feet)** |\n",
    "|:-------------------:|:-------------:|:-----------------------:|\n",
    "| **Bedroom set**     | \\\\$60           | 800                     |\n",
    "| **Dining room set** | \\\\$48           | 600                     |\n",
    "| **Gaming computer** | \\\\$14           | 300                     |\n",
    "| **Sofa**            | \\\\$31           | 400                     |\n",
    "| **TV**              | \\\\$10           | 200                     |\n"
   ]
  },
  {
   "cell_type": "code",
   "execution_count": 41,
   "id": "c43225af",
   "metadata": {},
   "outputs": [
    {
     "data": {
      "text/plain": [
       "{0.08: 'Dining Room Set',\n",
       " 0.0775: 'Sofa',\n",
       " 0.075: 'Bedroom Set',\n",
       " 0.05: 'TV',\n",
       " 0.04666666666666667: 'Gaming Computer'}"
      ]
     },
     "execution_count": 41,
     "metadata": {},
     "output_type": "execute_result"
    }
   ],
   "source": [
    "## Just sorting by the value to volume ratio:\n",
    "\n",
    "key_values = [14/300, 60/800, 48/600, 31/400, 10/200]\n",
    "items = ['Gaming Computer', 'Bedroom Set', 'Dining Room Set', 'Sofa', 'TV']\n",
    "\n",
    "ca_item_dict = {key_values[i]: items[i] for i in range(len(key_values))}\n",
    "     \n",
    "sorted_keys = sorted(key_values, reverse=True)\n",
    "sorted_dict = {i: ca_item_dict[i] for i in sorted_keys}\n",
    "\n",
    "sorted_dict"
   ]
  },
  {
   "cell_type": "code",
   "execution_count": 19,
   "id": "fa2fff59",
   "metadata": {},
   "outputs": [
    {
     "name": "stdout",
     "output_type": "stream",
     "text": [
      "Knapsack NJ to CA Problem\n",
      "Objective = $79\n",
      "status=Optimal\n",
      "bedroom_set = 0\n",
      "dining_room_set = 1\n",
      "gaming_computer = 0\n",
      "sofa = 1\n",
      "tv = 0\n",
      "\n"
     ]
    },
    {
     "name": "stderr",
     "output_type": "stream",
     "text": [
      "/Users/robords/.venv/basic_linear_programming/lib/python3.9/site-packages/pulp/pulp.py:1352: UserWarning: Spaces are not permitted in the name. Converted to '_'\n",
      "  warnings.warn(\"Spaces are not permitted in the name. Converted to '_'\")\n"
     ]
    }
   ],
   "source": [
    "from pulp import LpVariable, LpProblem, LpMaximize, LpStatus, value, LpMinimize, GLPK\n",
    "\n",
    "# define variables\n",
    "x1 = LpVariable(\"bedroom_set\", 0, 1, cat = 'Integer')\n",
    "x2 = LpVariable(\"dining_room_set\", 0, 1, cat = 'Integer')\n",
    "x3 = LpVariable(\"gaming_computer\", 0, 1, cat = 'Integer')\n",
    "x4 = LpVariable(\"sofa\", 0, 1, cat = 'Integer')\n",
    "x5 = LpVariable(\"tv\", 0, 1, cat = 'Integer')\n",
    "\n",
    "# defines the problem\n",
    "nj_to_ca = LpProblem(\"knapsack problem\", LpMaximize)\n",
    "\n",
    "# define objective function\n",
    "nj_to_ca += 60*x1 + 48*x2 + 14*x3 + 31*x4 + 10*x5\n",
    "\n",
    "# define constraints\n",
    "nj_to_ca += 800*x1 + 600*x2 + 300*x3 + 400*x4 + 200*x5<= 1100\n",
    "\n",
    "# solve the problem\n",
    "status = nj_to_ca.solve(GLPK(msg=0))\n",
    "print(f\"Knapsack NJ to CA Problem\")\n",
    "\n",
    "print(f\"Objective = ${value(nj_to_ca.objective)}\")\n",
    "\n",
    "print(f\"status={LpStatus[status]}\")\n",
    "# print the results\n",
    "for variable in nj_to_ca.variables():\n",
    "    print(f\"{variable.name} = {variable.varValue}\")\n",
    "    \n",
    "print(f\"\")"
   ]
  },
  {
   "cell_type": "code",
   "execution_count": null,
   "id": "1949c7b1",
   "metadata": {},
   "outputs": [],
   "source": []
  }
 ],
 "metadata": {
  "kernelspec": {
   "display_name": "Python 3 (ipykernel)",
   "language": "python",
   "name": "python3"
  },
  "language_info": {
   "codemirror_mode": {
    "name": "ipython",
    "version": 3
   },
   "file_extension": ".py",
   "mimetype": "text/x-python",
   "name": "python",
   "nbconvert_exporter": "python",
   "pygments_lexer": "ipython3",
   "version": "3.9.6"
  }
 },
 "nbformat": 4,
 "nbformat_minor": 5
}

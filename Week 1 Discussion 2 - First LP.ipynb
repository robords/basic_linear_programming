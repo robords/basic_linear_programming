{
 "cells": [
  {
   "cell_type": "markdown",
   "id": "0ddd5d4d",
   "metadata": {},
   "source": [
    "### Part 1\n",
    "\n",
    "I am setting up a healthcare clinic and need to determine FTE staffing requirements for the providers. I can take fractional FTEs. I will be choosing from primary care physicians (MDs) who average \\\\$150K, nurse practitioners (NPs) who average \\\\$110K, and physician assistants PAs) who average \\\\$100K. \n",
    "\n",
    "* I need at least 10 providers to meet demand. \n",
    "* I need at least 1.5 NP for each PA.\n",
    "* Physicians can only supervise 2 non-physicians (NPs and PAs).     \n",
    "\n",
    "\n",
    "Formulate the linear program to meet these requirements.  Because the constraint matrix is square, this problem may be solved by inverting the constraint matrix (if invertible) and multiplying it by the right-hand side parameters.  See if you can do it.  Otherwise, solve the problem by using LPSolve, R, GAMS, or Python.  Provide the objective as well as all the decision variable values. "
   ]
  },
  {
   "cell_type": "code",
   "execution_count": 2,
   "id": "802b4695",
   "metadata": {},
   "outputs": [],
   "source": [
    "from pulp import LpVariable, LpProblem, LpMaximize, LpStatus, value, LpMinimize"
   ]
  },
  {
   "cell_type": "code",
   "execution_count": 6,
   "id": "dc1a86aa",
   "metadata": {},
   "outputs": [],
   "source": [
    "# define variables\n",
    "MDs = LpVariable(\"MDs\", 0, None) # MDs>=0  \n",
    "# The 0 means we can't have negative values, and there is no upper bound  so \"None\"\n",
    "NPs = LpVariable(\"NPs\", 0, None) # NPs>=0\n",
    "PAs = LpVariable(\"PAs\", 0, None) # NPs>=0"
   ]
  },
  {
   "cell_type": "code",
   "execution_count": 7,
   "id": "06ab80e2",
   "metadata": {},
   "outputs": [],
   "source": [
    "# defines the problem\n",
    "prob = LpProblem(\"problem\", LpMinimize)\n",
    "# Note, LpMaximize for a maximization problem, \n",
    "# and LpMinimize for a minimization problem"
   ]
  },
  {
   "cell_type": "code",
   "execution_count": 8,
   "id": "98f0219a",
   "metadata": {},
   "outputs": [],
   "source": [
    "# define objective function\n",
    "prob += 150*MDs + 110*NPs + 100*PAs"
   ]
  },
  {
   "cell_type": "code",
   "execution_count": null,
   "id": "629810a6",
   "metadata": {},
   "outputs": [],
   "source": [
    "# define constraints\n",
    "prob += MDs + NPs + PAs >= 10  ## I need at least 10 providers to meet demand. \n",
    "prob += 1.5*NPs <= PAs  ## I need at least 1.5 NP for each PA.\n",
    "prob += MDs <= 1*PAs + 1*MDs ## Physicians can only supervise 2 non-physicians (NPs and PAs). "
   ]
  },
  {
   "cell_type": "code",
   "execution_count": null,
   "id": "fb1bb873",
   "metadata": {},
   "outputs": [],
   "source": []
  },
  {
   "cell_type": "markdown",
   "id": "ce1ef61a",
   "metadata": {},
   "source": [
    "### Part 2  \n",
    "\n",
    "How should we view and use math programming as part of our analytics portfolio?  How might we combine prescriptive analytics with predictive and descriptive analytics?  "
   ]
  },
  {
   "cell_type": "code",
   "execution_count": null,
   "id": "680c44e1",
   "metadata": {},
   "outputs": [],
   "source": []
  }
 ],
 "metadata": {
  "kernelspec": {
   "display_name": "Python 3 (ipykernel)",
   "language": "python",
   "name": "python3"
  },
  "language_info": {
   "codemirror_mode": {
    "name": "ipython",
    "version": 3
   },
   "file_extension": ".py",
   "mimetype": "text/x-python",
   "name": "python",
   "nbconvert_exporter": "python",
   "pygments_lexer": "ipython3",
   "version": "3.9.6"
  }
 },
 "nbformat": 4,
 "nbformat_minor": 5
}

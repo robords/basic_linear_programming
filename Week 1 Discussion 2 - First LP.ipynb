{
 "cells": [
  {
   "cell_type": "markdown",
   "id": "2287807b",
   "metadata": {},
   "source": [
    "### Part 1\n",
    "\n",
    "I am setting up a healthcare clinic and need to determine FTE staffing requirements for the providers. I can take fractional FTEs. I will be choosing from primary care physicians (MDs) who average \\\\$150K, nurse practitioners (NPs) who average \\\\$110K, and physician assistants PAs) who average \\\\$100K. \n",
    "\n",
    "* I need at least 10 providers to meet demand. \n",
    "* I need at least 1.5 NP for each PA.\n",
    "* Physicians can only supervise 2 non-physicians (NPs and PAs).    \n",
    "    I read this as: We need one physician for every two non-physicians.\n",
    "\n",
    "\n",
    "Formulate the linear program to meet these requirements.  Because the constraint matrix is square, this problem may be solved by inverting the constraint matrix (if invertible) and multiplying it by the right-hand side parameters.  See if you can do it.  Otherwise, solve the problem by using LPSolve, R, GAMS, or Python.  Provide the objective as well as all the decision variable values. "
   ]
  },
  {
   "cell_type": "code",
   "execution_count": 49,
   "id": "80eb3af4",
   "metadata": {},
   "outputs": [],
   "source": [
    "from pulp import LpVariable, LpProblem, LpMaximize, LpStatus, value, LpMinimize, PULP_CBC_CMD"
   ]
  },
  {
   "cell_type": "code",
   "execution_count": 51,
   "id": "51696ca6",
   "metadata": {},
   "outputs": [
    {
     "name": "stdout",
     "output_type": "stream",
     "text": [
      "Week 1 Discussion 2 - First LP\n",
      "status=Optimal\n",
      "MDs = 3.3333333\n",
      "NPs = 4.0\n",
      "PAs = 2.6666667\n",
      "Objective = 1206.666665\n",
      "\n"
     ]
    }
   ],
   "source": [
    "# define variables - these are our decision variables representing how many FTEs to employ\n",
    "MDs = LpVariable(\"MDs\", 0, None) # MDs>=0  \n",
    "# The 0 means we can't have negative values, and there is no upper bound  so \"None\"\n",
    "NPs = LpVariable(\"NPs\", 0, None) # NPs>=0\n",
    "PAs = LpVariable(\"PAs\", 0, None) # PAs>=0\n",
    "\n",
    "# defines the problem type\n",
    "prob = LpProblem(\"problem\", LpMinimize)\n",
    "\n",
    "# define objective function\n",
    "prob += 150*MDs + 110*NPs + 100*PAs\n",
    "\n",
    "# define constraints\n",
    "prob += (MDs + NPs + PAs >= 10, \"Total Providers Constraint\") ## I need at least 10 providers to meet demand. \n",
    "prob += (NPs >= 1.5 * PAs, \"NPs per PA\") ## I need at least 1.5 NP for each PA.\n",
    "prob += (MDs * 2 >= NPs + PAs, \"MDs per non-physicians\") ## Physicians can only supervise 2 non-physicians (NPs and PAs). \n",
    "\n",
    "prob += (MDs >= 0, \"MD Non-negative Constraint\")\n",
    "prob += (NPs >= 0, \"NP Non-negative Constraint\")\n",
    "prob += (PAs >= 0, \"PA Non-negative Constraint\")\n",
    "\n",
    "# solve the problem\n",
    "status = prob.solve(PULP_CBC_CMD(msg=0))\n",
    "\n",
    "\n",
    "print(f\"Week 1 Discussion 2 - First LP\")\n",
    "print(f\"status={LpStatus[status]}\")\n",
    "\n",
    "# print the results\n",
    "for variable in prob.variables():\n",
    "    print(f\"{variable.name} = {variable.varValue}\")\n",
    "    \n",
    "print(f\"Objective = {value(prob.objective)}\")\n",
    "print(f\"\")\n",
    "\n"
   ]
  },
  {
   "cell_type": "code",
   "execution_count": 67,
   "id": "1b366464",
   "metadata": {},
   "outputs": [
    {
     "name": "stdout",
     "output_type": "stream",
     "text": [
      "Number of MDs: 3.3333333\n",
      "Number of NPs: 4.0\n",
      "Number of PAs: 2.6666667\n",
      "Optimal solution: $1206.67\n"
     ]
    }
   ],
   "source": [
    "import pulp\n",
    "\n",
    "# Create the linear programming problem\n",
    "lp_problem = pulp.LpProblem('Staffing', pulp.LpMinimize)\n",
    "\n",
    "# Define the decision variables\n",
    "x = pulp.LpVariable('x', lowBound=0)  # Number of MDs\n",
    "y = pulp.LpVariable('y', lowBound=0)  # Number of NPs\n",
    "z = pulp.LpVariable('z', lowBound=0)  # Number of PAs\n",
    "\n",
    "# Set the objective function\n",
    "lp_problem += 150 * x + 110 * y + 100 * z\n",
    "\n",
    "# Add the constraints\n",
    "lp_problem += x + y + z >= 10\n",
    "lp_problem += 1.5 * z <= y\n",
    "lp_problem += 2 * x >= y + z\n",
    "\n",
    "# Solve the linear programming problem using the GLPK solver\n",
    "lp_problem.solve(solver=PULP_CBC_CMD(msg=0))\n",
    "\n",
    "# Print the results\n",
    "print(f'Number of MDs: {x.value()}')\n",
    "print(f'Number of NPs: {y.value()}')\n",
    "print(f'Number of PAs: {z.value()}')\n",
    "\n",
    "# Print the optimal solution\n",
    "print(f'Optimal solution: ${pulp.value(lp_problem.objective):.2f}')\n",
    "\n"
   ]
  },
  {
   "cell_type": "code",
   "execution_count": null,
   "id": "8a299fe9",
   "metadata": {},
   "outputs": [],
   "source": []
  }
 ],
 "metadata": {
  "kernelspec": {
   "display_name": "Python 3 (ipykernel)",
   "language": "python",
   "name": "python3"
  },
  "language_info": {
   "codemirror_mode": {
    "name": "ipython",
    "version": 3
   },
   "file_extension": ".py",
   "mimetype": "text/x-python",
   "name": "python",
   "nbconvert_exporter": "python",
   "pygments_lexer": "ipython3",
   "version": "3.9.6"
  }
 },
 "nbformat": 4,
 "nbformat_minor": 5
}

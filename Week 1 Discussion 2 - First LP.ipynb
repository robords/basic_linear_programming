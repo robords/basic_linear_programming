{
 "cells": [
  {
   "cell_type": "markdown",
   "id": "687c2b4b",
   "metadata": {},
   "source": [
    "### Part 1\n",
    "\n",
    "I am setting up a healthcare clinic and need to determine FTE staffing requirements for the providers. I can take fractional FTEs. I will be choosing from primary care physicians (MDs) who average \\\\$150K, nurse practitioners (NPs) who average \\\\$110K, and physician assistants PAs) who average \\\\$100K. \n",
    "\n",
    "* I need at least 10 providers to meet demand. \n",
    "* I need at least 1.5 NP for each PA.\n",
    "* Physicians can only supervise 2 non-physicians (NPs and PAs).    \n",
    "    I read this as: We need one physician for every two non-physicians.\n",
    "\n",
    "\n",
    "Formulate the linear program to meet these requirements.  Because the constraint matrix is square, this problem may be solved by inverting the constraint matrix (if invertible) and multiplying it by the right-hand side parameters.  See if you can do it.  Otherwise, solve the problem by using LPSolve, R, GAMS, or Python.  Provide the objective as well as all the decision variable values. "
   ]
  },
  {
   "cell_type": "code",
   "execution_count": 2,
   "id": "05c45bd2",
   "metadata": {},
   "outputs": [],
   "source": [
    "from pulp import LpVariable, LpProblem, LpMaximize, LpStatus, value, LpMinimize"
   ]
  },
  {
   "cell_type": "code",
   "execution_count": 42,
   "id": "825ae71e",
   "metadata": {},
   "outputs": [],
   "source": [
    "# define variables - these are our decision variables representing how many FTEs to employ\n",
    "MDs = LpVariable(\"MDs\", 0, None) # MDs>=0  \n",
    "# The 0 means we can't have negative values, and there is no upper bound  so \"None\"\n",
    "NPs = LpVariable(\"NPs\", 0, None) # NPs>=0\n",
    "PAs = LpVariable(\"PAs\", 0, None) # PAs>=0"
   ]
  },
  {
   "cell_type": "code",
   "execution_count": 43,
   "id": "4875ba80",
   "metadata": {},
   "outputs": [
    {
     "name": "stdout",
     "output_type": "stream",
     "text": [
      "Welcome to the CBC MILP Solver \n",
      "Version: 2.10.3 \n",
      "Build Date: Dec 15 2019 \n",
      "\n",
      "command line - /Users/robords/.venv/basic_linear_programming/lib/python3.9/site-packages/pulp/solverdir/cbc/osx/64/cbc /var/folders/c0/r6mf3b4n5w72sdb037sthl840000gn/T/16b37ba75e6f4ce894156fd7e5a0898e-pulp.mps timeMode elapsed branch printingOptions all solution /var/folders/c0/r6mf3b4n5w72sdb037sthl840000gn/T/16b37ba75e6f4ce894156fd7e5a0898e-pulp.sol (default strategy 1)\n",
      "At line 2 NAME          MODEL\n",
      "At line 3 ROWS\n",
      "At line 11 COLUMNS\n",
      "At line 26 RHS\n",
      "At line 33 BOUNDS\n",
      "At line 34 ENDATA\n",
      "Problem MODEL has 6 rows, 3 columns and 11 elements\n",
      "Coin0008I MODEL read with 0 errors\n",
      "Option for timeMode changed from cpu to elapsed\n",
      "Presolve 3 (-3) rows, 3 (0) columns and 8 (-3) elements\n",
      "0  Obj 0 Primal inf 9.999999 (1)\n",
      "3  Obj 1206.6667\n",
      "Optimal - objective value 1206.6667\n",
      "After Postsolve, objective 1206.6667, infeasibilities - dual 0 (0), primal 0 (0)\n",
      "Optimal objective 1206.666667 - 3 iterations time 0.002, Presolve 0.00\n",
      "Option for printingOptions changed from normal to all\n",
      "Total time (CPU seconds):       0.00   (Wallclock seconds):       0.00\n",
      "\n"
     ]
    }
   ],
   "source": [
    "# defines the problem type\n",
    "prob = LpProblem(\"problem\", LpMinimize)\n",
    "\n",
    "# define objective function\n",
    "prob += 150*MDs + 110*NPs + 100*PAs\n",
    "\n",
    "# define constraints\n",
    "prob += (MDs + NPs + PAs >= 10, \"Total Providers Constraint\") ## I need at least 10 providers to meet demand. \n",
    "prob += (NPs >= 1.5 * PAs, \"NPs per PA\") ## I need at least 1.5 NP for each PA.\n",
    "prob += (MDs * 2 >= NPs + PAs, \"MDs per non-physicians\") ## Physicians can only supervise 2 non-physicians (NPs and PAs). \n",
    "\n",
    "prob += (MDs >= 0, \"MD Non-negative Constraint\")\n",
    "prob += (NPs >= 0, \"NP Non-negative Constraint\")\n",
    "prob += (PAs >= 0, \"PA Non-negative Constraint\")\n",
    "\n",
    "# solve the problem\n",
    "status = prob.solve()\n"
   ]
  },
  {
   "cell_type": "code",
   "execution_count": 44,
   "id": "c625acfb",
   "metadata": {},
   "outputs": [
    {
     "name": "stdout",
     "output_type": "stream",
     "text": [
      "Problem 1\n",
      "status=Optimal\n",
      "MDs = 3.3333333\n",
      "NPs = 4.0\n",
      "PAs = 2.6666667\n",
      "Objective = 1206.666665\n",
      "\n"
     ]
    }
   ],
   "source": [
    "print(f\"Week 1 Discussion 2 - First LP\")\n",
    "print(f\"status={LpStatus[status]}\")\n",
    "\n",
    "# print the results\n",
    "for variable in prob.variables():\n",
    "    print(f\"{variable.name} = {variable.varValue}\")\n",
    "    \n",
    "print(f\"Objective = {value(prob.objective)}\")\n",
    "print(f\"\")"
   ]
  },
  {
   "cell_type": "markdown",
   "id": "bc355525",
   "metadata": {},
   "source": [
    "### Part 2  \n",
    "\n",
    "How should we view and use math programming as part of our analytics portfolio?  How might we combine prescriptive analytics with predictive and descriptive analytics?  "
   ]
  },
  {
   "cell_type": "code",
   "execution_count": null,
   "id": "9326f969",
   "metadata": {},
   "outputs": [],
   "source": []
  }
 ],
 "metadata": {
  "kernelspec": {
   "display_name": "Python 3 (ipykernel)",
   "language": "python",
   "name": "python3"
  },
  "language_info": {
   "codemirror_mode": {
    "name": "ipython",
    "version": 3
   },
   "file_extension": ".py",
   "mimetype": "text/x-python",
   "name": "python",
   "nbconvert_exporter": "python",
   "pygments_lexer": "ipython3",
   "version": "3.9.6"
  }
 },
 "nbformat": 4,
 "nbformat_minor": 5
}

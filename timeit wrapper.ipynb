{
 "cells": [
  {
   "cell_type": "code",
   "execution_count": 1,
   "id": "dd207c42",
   "metadata": {},
   "outputs": [],
   "source": [
    "import time\n",
    "from functools import wraps\n",
    "\n"
   ]
  },
  {
   "cell_type": "code",
   "execution_count": 2,
   "id": "c624fb63",
   "metadata": {},
   "outputs": [],
   "source": [
    "def timeit(func):\n",
    "    @wraps(func)\n",
    "    def wrapper(*args, **kwargs):\n",
    "        start = time.perf_counter()\n",
    "        result = func(*args, **kwargs)\n",
    "        end = time.perf_counter()\n",
    "        print(f'{func.__name__} took {end - start:.6f} seconds to complete')\n",
    "        return result\n",
    "    return wrapper\n"
   ]
  },
  {
   "cell_type": "code",
   "execution_count": 3,
   "id": "d6739cf4",
   "metadata": {},
   "outputs": [],
   "source": [
    "@timeit\n",
    "def process_data():\n",
    "    time.sleep(1)\n"
   ]
  },
  {
   "cell_type": "code",
   "execution_count": 13,
   "id": "001e91a5",
   "metadata": {},
   "outputs": [],
   "source": [
    "@timeit\n",
    "def do_something():\n",
    "    print(\"hello\")\n",
    "    time.sleep(2)"
   ]
  },
  {
   "cell_type": "code",
   "execution_count": 15,
   "id": "2080087b",
   "metadata": {},
   "outputs": [],
   "source": [
    "@timeit\n",
    "def do_something_else():\n",
    "    a = 1\n",
    "    b = c = 2\n",
    "    print(f\"{a + c} = {b + a}\")\n",
    "    time.sleep(.5)\n",
    "        "
   ]
  },
  {
   "cell_type": "code",
   "execution_count": 4,
   "id": "888278e9",
   "metadata": {},
   "outputs": [
    {
     "name": "stdout",
     "output_type": "stream",
     "text": [
      "process_data took 1.005050 seconds to complete\n"
     ]
    }
   ],
   "source": [
    "process_data()\n",
    "# process_data took 1.000012 seconds to complete"
   ]
  },
  {
   "cell_type": "code",
   "execution_count": 14,
   "id": "ed2756cb",
   "metadata": {},
   "outputs": [
    {
     "name": "stdout",
     "output_type": "stream",
     "text": [
      "hello\n",
      "do_something took 2.005124 seconds to complete\n"
     ]
    }
   ],
   "source": [
    "do_something()"
   ]
  },
  {
   "cell_type": "code",
   "execution_count": 17,
   "id": "f0082f60",
   "metadata": {},
   "outputs": [
    {
     "name": "stdout",
     "output_type": "stream",
     "text": [
      "3 = 3\n",
      "do_something_else took 0.505146 seconds to complete\n"
     ]
    }
   ],
   "source": [
    "do_something_else()"
   ]
  },
  {
   "cell_type": "code",
   "execution_count": null,
   "id": "24c18a0d",
   "metadata": {},
   "outputs": [],
   "source": []
  }
 ],
 "metadata": {
  "kernelspec": {
   "display_name": "Python 3 (ipykernel)",
   "language": "python",
   "name": "python3"
  },
  "language_info": {
   "codemirror_mode": {
    "name": "ipython",
    "version": 3
   },
   "file_extension": ".py",
   "mimetype": "text/x-python",
   "name": "python",
   "nbconvert_exporter": "python",
   "pygments_lexer": "ipython3",
   "version": "3.9.6"
  }
 },
 "nbformat": 4,
 "nbformat_minor": 5
}

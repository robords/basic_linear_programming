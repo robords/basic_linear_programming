{
 "cells": [
  {
   "cell_type": "code",
   "execution_count": 16,
   "id": "6ca7e96e",
   "metadata": {},
   "outputs": [],
   "source": [
    "# import pulp\n",
    "from pulp import LpVariable, LpProblem, LpMaximize, LpStatus, value, LpMinimize, PULP_CBC_CMD"
   ]
  },
  {
   "cell_type": "code",
   "execution_count": 17,
   "id": "a0224988",
   "metadata": {},
   "outputs": [],
   "source": [
    "# Problem 1\n",
    "# define variables\n",
    "Tables = LpVariable(\"Tables\", 0, None) # Tables>=0  \n",
    "# The 0 means we can't have negative values, and \n",
    "# there is no upper bound (we can have as many tables or chairs as possible), no \"None\"\n",
    "Chairs = LpVariable(\"Chairs\", 0, None) # Chairs>=0"
   ]
  },
  {
   "cell_type": "code",
   "execution_count": 18,
   "id": "3cadd329",
   "metadata": {},
   "outputs": [],
   "source": [
    "# defines the problem\n",
    "prob = LpProblem(\"problem\", LpMaximize)\n",
    "# Note, LpMaximize for a maximization problem, \n",
    "# and LpMinimize for a minimization problem"
   ]
  },
  {
   "cell_type": "code",
   "execution_count": 19,
   "id": "127977af",
   "metadata": {},
   "outputs": [
    {
     "data": {
      "text/plain": [
       "problem:\n",
       "MAXIMIZE\n",
       "None\n",
       "VARIABLES"
      ]
     },
     "execution_count": 19,
     "metadata": {},
     "output_type": "execute_result"
    }
   ],
   "source": [
    "prob"
   ]
  },
  {
   "cell_type": "code",
   "execution_count": 20,
   "id": "77979a02",
   "metadata": {},
   "outputs": [
    {
     "data": {
      "text/plain": [
       "'\\nNote:  Tables take 2 big and 2 small blocks; and sell for $16 each\\nChairs take 1 big and 2 small blocks; and sell for $10 each\\n'"
      ]
     },
     "execution_count": 20,
     "metadata": {},
     "output_type": "execute_result"
    }
   ],
   "source": [
    "# define constraints\n",
    "prob += 2*Tables    +  1*Chairs    <= 12  ## This is the \"big block\" constraint\n",
    "prob += 2*Tables    +  2*Chairs    <= 18  ## This is the \"small block\" constraint\n",
    "## For big blocks, we only have 12:\n",
    "### When making a table, we us 2 big blocks and two small blocks\n",
    "### When making a chair, we use one big block and two small blocks\n",
    "\n",
    "'''\n",
    "Note:  Tables take 2 big and 2 small blocks; and sell for $16 each\n",
    "Chairs take 1 big and 2 small blocks; and sell for $10 each\n",
    "'''\n",
    "\n",
    "## For small blockers, we only have 18\n",
    "\n",
    "# Note, if <= then <=\n",
    "# If >= then >=\n",
    "# If = then =="
   ]
  },
  {
   "cell_type": "code",
   "execution_count": 21,
   "id": "88c1fab5",
   "metadata": {},
   "outputs": [],
   "source": [
    "# define objective function\n",
    "prob += 16*Tables   + 10*Chairs"
   ]
  },
  {
   "cell_type": "code",
   "execution_count": 22,
   "id": "433a152c",
   "metadata": {},
   "outputs": [
    {
     "name": "stdout",
     "output_type": "stream",
     "text": [
      "Problem 1\n",
      "status=Optimal\n",
      "Chairs = 6.0\n",
      "Tables = 3.0\n",
      "Objective = 108.0\n",
      "\n"
     ]
    }
   ],
   "source": [
    "# solve the problem\n",
    "status = prob.solve(PULP_CBC_CMD(msg=0))\n",
    "print(f\"Problem 1\")\n",
    "print(f\"status={LpStatus[status]}\")\n",
    "\n",
    "# print the results\n",
    "for variable in prob.variables():\n",
    "    print(f\"{variable.name} = {variable.varValue}\")\n",
    "    \n",
    "print(f\"Objective = {value(prob.objective)}\")\n",
    "print(f\"\")"
   ]
  },
  {
   "cell_type": "code",
   "execution_count": 10,
   "id": "37426a86",
   "metadata": {},
   "outputs": [
    {
     "name": "stdout",
     "output_type": "stream",
     "text": [
      "Welcome to the CBC MILP Solver \n",
      "Version: 2.10.3 \n",
      "Build Date: Dec 15 2019 \n",
      "\n",
      "command line - /Users/robords/.venv/basic_linear_programming/lib/python3.9/site-packages/pulp/solverdir/cbc/osx/64/cbc /var/folders/c0/r6mf3b4n5w72sdb037sthl840000gn/T/4ee3feb1e89c4e78b0aed156d9e955e0-pulp.mps max timeMode elapsed branch printingOptions all solution /var/folders/c0/r6mf3b4n5w72sdb037sthl840000gn/T/4ee3feb1e89c4e78b0aed156d9e955e0-pulp.sol (default strategy 1)\n",
      "At line 2 NAME          MODEL\n",
      "At line 3 ROWS\n",
      "At line 7 COLUMNS\n",
      "At line 17 RHS\n",
      "At line 20 BOUNDS\n",
      "At line 21 ENDATA\n",
      "Problem MODEL has 2 rows, 3 columns and 6 elements\n",
      "Coin0008I MODEL read with 0 errors\n",
      "Option for timeMode changed from cpu to elapsed\n",
      "Presolve 2 (0) rows, 3 (0) columns and 6 (0) elements\n",
      "0  Obj -0 Dual inf 41 (3)\n",
      "0  Obj -0 Dual inf 41 (3)\n",
      "3  Obj 110\n",
      "Optimal - objective value 110\n",
      "Optimal objective 110 - 3 iterations time 0.002\n",
      "Option for printingOptions changed from normal to all\n",
      "Total time (CPU seconds):       0.00   (Wallclock seconds):       0.01\n",
      "\n",
      "Problem 2\n",
      "status=Optimal\n",
      "Chairs = 8.0\n",
      "Coffee = 2.0\n",
      "Tables = 0.0\n",
      "Objective = 110.0\n",
      "\n"
     ]
    }
   ],
   "source": [
    "# Problem 2\n",
    "# define variables\n",
    "Tables = LpVariable(\"Tables\", 0, None) # Tables>=0\n",
    "Chairs = LpVariable(\"Chairs\", 0, None) # Chairs>=0\n",
    "Coffee = LpVariable(\"Coffee\", 0, None) # Coffee>=0\n",
    "\n",
    "# defines the problem\n",
    "prob = LpProblem(\"problem\", LpMaximize)\n",
    "# Note, LpMaximize for a maximization problem, \n",
    "# and LpMinimize for a minimization problem\n",
    "\n",
    "# define constraints\n",
    "prob += 2*Tables    +  1*Chairs     +  2*Coffee    <= 12\n",
    "prob += 2*Tables    +  2*Chairs     +  1*Coffee    <= 18\n",
    "# Note, if <= then <=\n",
    "# If >= then >=\n",
    "# If = then ==\n",
    "\n",
    "# define objective function\n",
    "prob += 16*Tables   + 10*Chairs     + 15*Coffee\n",
    "\n",
    "# solve the problem\n",
    "status = prob.solve()\n",
    "print(f\"Problem 2\")\n",
    "print(f\"status={LpStatus[status]}\")\n",
    "\n",
    "# print the results\n",
    "for variable in prob.variables():\n",
    "    print(f\"{variable.name} = {variable.varValue}\")\n",
    "    \n",
    "print(f\"Objective = {value(prob.objective)}\")\n",
    "print(f\"\")"
   ]
  },
  {
   "cell_type": "code",
   "execution_count": 12,
   "id": "5f8d13cd",
   "metadata": {},
   "outputs": [
    {
     "name": "stdout",
     "output_type": "stream",
     "text": [
      "Welcome to the CBC MILP Solver \n",
      "Version: 2.10.3 \n",
      "Build Date: Dec 15 2019 \n",
      "\n",
      "command line - /Users/robords/.venv/basic_linear_programming/lib/python3.9/site-packages/pulp/solverdir/cbc/osx/64/cbc /var/folders/c0/r6mf3b4n5w72sdb037sthl840000gn/T/86e59879ea06427db2c40784db75bd8b-pulp.mps max timeMode elapsed branch printingOptions all solution /var/folders/c0/r6mf3b4n5w72sdb037sthl840000gn/T/86e59879ea06427db2c40784db75bd8b-pulp.sol (default strategy 1)\n",
      "At line 2 NAME          MODEL\n",
      "At line 3 ROWS\n",
      "At line 7 COLUMNS\n",
      "At line 17 RHS\n",
      "At line 20 BOUNDS\n",
      "At line 21 ENDATA\n",
      "Problem MODEL has 2 rows, 3 columns and 6 elements\n",
      "Coin0008I MODEL read with 0 errors\n",
      "Option for timeMode changed from cpu to elapsed\n",
      "Presolve 2 (0) rows, 3 (0) columns and 6 (0) elements\n",
      "0  Obj -0 Dual inf 37.5 (3)\n",
      "0  Obj -0 Dual inf 37.5 (3)\n",
      "2  Obj 99\n",
      "Optimal - objective value 99\n",
      "Optimal objective 99 - 2 iterations time 0.002\n",
      "Option for printingOptions changed from normal to all\n",
      "Total time (CPU seconds):       0.00   (Wallclock seconds):       0.00\n",
      "\n",
      "Problem 3\n",
      "status=Optimal\n",
      "Chairs = 6.0\n",
      "Coffee = 0.0\n",
      "Tables = 3.0\n",
      "Objective = 99.0\n",
      "\n"
     ]
    }
   ],
   "source": [
    "# Problem 3\n",
    "# define variables\n",
    "Tables = LpVariable(\"Tables\", 0, None) # Tables>=0\n",
    "Chairs = LpVariable(\"Chairs\", 0, None) # Chairs>=0\n",
    "Coffee = LpVariable(\"Coffee\", 0, None) # Coffee>=0\n",
    "\n",
    "# defines the problem\n",
    "prob = LpProblem(\"problem\", LpMaximize)\n",
    "# Note, LpMaximize for a maximization problem, \n",
    "# and LpMinimize for a minimization problem\n",
    "\n",
    "# define constraints\n",
    "prob += 2*Tables    +  1*Chairs     +  2*Coffee    <= 12\n",
    "prob += 2*Tables    +  2*Chairs     +  1*Coffee    <= 18\n",
    "# Note, if <= then <=\n",
    "# If >= then >=\n",
    "# If = then ==\n",
    "\n",
    "# define objective function\n",
    "prob += 15*Tables   + 9*Chairs     + 13.5*Coffee\n",
    "\n",
    "# solve the problem\n",
    "status = prob.solve()\n",
    "print(f\"Problem 3\")\n",
    "print(f\"status={LpStatus[status]}\")\n",
    "\n",
    "# print the results\n",
    "for variable in prob.variables():\n",
    "    print(f\"{variable.name} = {variable.varValue}\")\n",
    "    \n",
    "print(f\"Objective = {value(prob.objective)}\")\n",
    "print(f\"\")"
   ]
  },
  {
   "cell_type": "code",
   "execution_count": null,
   "id": "625f42a3",
   "metadata": {},
   "outputs": [],
   "source": []
  }
 ],
 "metadata": {
  "kernelspec": {
   "display_name": "Python 3 (ipykernel)",
   "language": "python",
   "name": "python3"
  },
  "language_info": {
   "codemirror_mode": {
    "name": "ipython",
    "version": 3
   },
   "file_extension": ".py",
   "mimetype": "text/x-python",
   "name": "python",
   "nbconvert_exporter": "python",
   "pygments_lexer": "ipython3",
   "version": "3.9.6"
  }
 },
 "nbformat": 4,
 "nbformat_minor": 5
}

{
 "cells": [
  {
   "cell_type": "code",
   "execution_count": 1,
   "id": "2af99486",
   "metadata": {},
   "outputs": [],
   "source": [
    "import matplotlib.pyplot as plt # Used for plotting\n",
    "from scipy.stats import shapiro # Used to do hypothesis test to show normal distribution\n",
    "import numpy as np # Numpy\n",
    "from numpy.random import seed # Numpy shortcut to set seed (so we'd get the same answer)\n",
    "from numpy.random import normal # Numpy shortcut since creating random normal distribution values\n",
    "\n",
    "# Setting seed (in theory) should make example reproducible across machines\n",
    "seed(1)"
   ]
  },
  {
   "cell_type": "code",
   "execution_count": 2,
   "id": "b4463b2e",
   "metadata": {},
   "outputs": [
    {
     "data": {
      "text/plain": [
       "array([116.24345364,  93.88243586,  94.71828248,  89.27031378])"
      ]
     },
     "execution_count": 2,
     "metadata": {},
     "output_type": "execute_result"
    }
   ],
   "source": [
    "# generate sample of 1000 values that follow a normal distribution\n",
    "# mean of 100 and standard deviation of 10\n",
    "# note:  loc = mean, scale = standard deviation, size = sample size\n",
    "\n",
    "data1 = normal(loc=100, scale=10, size=1000)\n",
    "\n",
    "#view first five values\n",
    "data1[0:4]\n"
   ]
  },
  {
   "cell_type": "code",
   "execution_count": 3,
   "id": "c45e31e8",
   "metadata": {},
   "outputs": [
    {
     "data": {
      "text/plain": [
       "100.38812476159603"
      ]
     },
     "execution_count": 3,
     "metadata": {},
     "output_type": "execute_result"
    }
   ],
   "source": [
    "# verify mean and standard deviation\n",
    "np.mean(data1)"
   ]
  },
  {
   "cell_type": "code",
   "execution_count": 4,
   "id": "2af53ce7",
   "metadata": {},
   "outputs": [
    {
     "data": {
      "text/plain": [
       "9.810041339322117"
      ]
     },
     "execution_count": 4,
     "metadata": {},
     "output_type": "execute_result"
    }
   ],
   "source": [
    "np.std(data1)"
   ]
  },
  {
   "cell_type": "code",
   "execution_count": 5,
   "id": "08b7f562",
   "metadata": {},
   "outputs": [
    {
     "data": {
      "text/plain": [
       "array([196.93527676, 151.34982975, 210.15968673, 193.51935342])"
      ]
     },
     "execution_count": 5,
     "metadata": {},
     "output_type": "execute_result"
    }
   ],
   "source": [
    "# generate sample of 1000 values that follow a normal distribution\n",
    "# mean of 200 and standard deviation of 20\n",
    "data2 = normal(loc=200, scale=20, size=1000)\n",
    "\n",
    "#view first five values\n",
    "data2[0:4]"
   ]
  },
  {
   "cell_type": "code",
   "execution_count": 6,
   "id": "2e3d15f0",
   "metadata": {},
   "outputs": [
    {
     "data": {
      "text/plain": [
       "200.54650886789156"
      ]
     },
     "execution_count": 6,
     "metadata": {},
     "output_type": "execute_result"
    }
   ],
   "source": [
    "# verify mean and standard deviation\n",
    "np.mean(data2)"
   ]
  },
  {
   "cell_type": "code",
   "execution_count": 7,
   "id": "c58be5ee",
   "metadata": {},
   "outputs": [
    {
     "data": {
      "text/plain": [
       "20.600748564339145"
      ]
     },
     "execution_count": 7,
     "metadata": {},
     "output_type": "execute_result"
    }
   ],
   "source": [
    "np.std(data2)"
   ]
  },
  {
   "cell_type": "code",
   "execution_count": 8,
   "id": "6284ca0d",
   "metadata": {},
   "outputs": [],
   "source": [
    "# Create data set 3\n",
    "# Remember, if adding two independent Normal Distributions, then the mean = mean1 + mean2 (so 300) and \n",
    "# variance = variance1 + variance 2 [must take appropriate square roots to get standard deviation]\n",
    "# Thus:  10^2 + 20^2 = 22.36^2\n",
    "\n",
    "data3 = data1 + data2"
   ]
  },
  {
   "cell_type": "code",
   "execution_count": 9,
   "id": "ba774efb",
   "metadata": {},
   "outputs": [
    {
     "data": {
      "text/plain": [
       "array([313.1787304 , 245.23226561, 304.87796921, 282.7896672 ])"
      ]
     },
     "execution_count": 9,
     "metadata": {},
     "output_type": "execute_result"
    }
   ],
   "source": [
    "#view first five values\n",
    "data3[0:4]"
   ]
  },
  {
   "cell_type": "code",
   "execution_count": 10,
   "id": "ab1d5950",
   "metadata": {},
   "outputs": [
    {
     "data": {
      "text/plain": [
       "300.9346336294876"
      ]
     },
     "execution_count": 10,
     "metadata": {},
     "output_type": "execute_result"
    }
   ],
   "source": [
    "# verify mean and standard deviation\n",
    "np.mean(data3)"
   ]
  },
  {
   "cell_type": "code",
   "execution_count": 11,
   "id": "19d92030",
   "metadata": {},
   "outputs": [
    {
     "data": {
      "text/plain": [
       "23.010042988623255"
      ]
     },
     "execution_count": 11,
     "metadata": {},
     "output_type": "execute_result"
    }
   ],
   "source": [
    "np.std(data3)"
   ]
  },
  {
   "cell_type": "code",
   "execution_count": 12,
   "id": "d80b5012",
   "metadata": {},
   "outputs": [
    {
     "data": {
      "text/plain": [
       "ShapiroResult(statistic=0.9984102249145508, pvalue=0.4973807632923126)"
      ]
     },
     "execution_count": 12,
     "metadata": {},
     "output_type": "execute_result"
    }
   ],
   "source": [
    "# Check to see if data 3 is normally distributed (it should be)\n",
    "#perform Shapiro-Wilk test\n",
    "\n",
    "# If p-value is above 0.05 (or whatever alpha is), then the resulting data set is considered normal\n",
    "shapiro(data3)"
   ]
  },
  {
   "cell_type": "code",
   "execution_count": 13,
   "id": "dc28a20a",
   "metadata": {},
   "outputs": [
    {
     "data": {
      "image/png": "[encoded data removed]",
      "text/plain": [
       "<Figure size 640x480 with 1 Axes>"
      ]
     },
     "metadata": {},
     "output_type": "display_data"
    }
   ],
   "source": [
    "count, bins, ignored = plt.hist(data3, 30)\n",
    "plt.show()"
   ]
  },
  {
   "cell_type": "code",
   "execution_count": null,
   "id": "c21174c4",
   "metadata": {},
   "outputs": [],
   "source": []
  }
 ],
 "metadata": {
  "kernelspec": {
   "display_name": "Python 3 (ipykernel)",
   "language": "python",
   "name": "python3"
  },
  "language_info": {
   "codemirror_mode": {
    "name": "ipython",
    "version": 3
   },
   "file_extension": ".py",
   "mimetype": "text/x-python",
   "name": "python",
   "nbconvert_exporter": "python",
   "pygments_lexer": "ipython3",
   "version": "3.9.12"
  }
 },
 "nbformat": 4,
 "nbformat_minor": 5
}
